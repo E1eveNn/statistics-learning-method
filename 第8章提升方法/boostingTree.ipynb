{
 "cells": [
  {
   "cell_type": "markdown",
   "metadata": {},
   "source": [
    "# 提升树介绍"
   ]
  },
  {
   "attachments": {},
   "cell_type": "markdown",
   "metadata": {},
   "source": [
    "提升树是以分类树或回归树为基本分类器的提升方法。\n",
    "\n",
    "以决策数为基函数的提升方法称为提升树。\n",
    "\n",
    "对于二类分类问题，提升树算法只需将AdaBoost算法中的基本分类器限制为二类分类树即可。\n",
    "\n",
    "对于回归问题的提升树：\n",
    "\n",
    "<img src='./pics/img2.png'></img>"
   ]
  },
  {
   "cell_type": "code",
   "execution_count": 40,
   "metadata": {},
   "outputs": [],
   "source": [
    "from sklearn.datasets import load_boston\n",
    "from sklearn import datasets\n",
    "from sklearn.model_selection  import train_test_split\n",
    "import pandas as pd\n",
    "import numpy as np\n",
    "import matplotlib.pyplot as plt"
   ]
  },
  {
   "cell_type": "code",
   "execution_count": 41,
   "metadata": {},
   "outputs": [],
   "source": [
    "def create_data():\n",
    "    boston=load_boston()\n",
    "    df = pd.DataFrame(boston.data, columns=boston.feature_names)  \n",
    "    house_data = boston.data       \n",
    "    house_price = boston.target\n",
    "    return house_data,house_price"
   ]
  },
  {
   "cell_type": "code",
   "execution_count": 57,
   "metadata": {},
   "outputs": [
    {
     "data": {
      "text/plain": [
       "(10, 1)"
      ]
     },
     "execution_count": 57,
     "metadata": {},
     "output_type": "execute_result"
    }
   ],
   "source": [
    "X_train=np.mat([[1],[2],[3],[4],[5],[6],[7],[8],[9],[10]])\n",
    "X_train.shape"
   ]
  }
 ],
 "metadata": {
  "kernelspec": {
   "display_name": "Python 3",
   "language": "python",
   "name": "python3"
  },
  "language_info": {
   "codemirror_mode": {
    "name": "ipython",
    "version": 3
   },
   "file_extension": ".py",
   "mimetype": "text/x-python",
   "name": "python",
   "nbconvert_exporter": "python",
   "pygments_lexer": "ipython3",
   "version": "3.6.7"
  }
 },
 "nbformat": 4,
 "nbformat_minor": 2
}
