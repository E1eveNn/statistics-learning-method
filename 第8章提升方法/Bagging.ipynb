{
 "cells": [
  {
   "cell_type": "markdown",
   "metadata": {},
   "source": [
    "# Bagging介绍"
   ]
  },
  {
   "cell_type": "markdown",
   "metadata": {},
   "source": [
    "给定包含m个样本的数据集，我们先随机取出一个样本放入采样集中，再把该样本放回初始数据集，使得下次采样时该样本仍有可能被选中，这样，经过m次随机采样操作，我们得到含m个样本的采样集。照这样，我们可采样出T个包含m个训练样本的采样集，然后基于每个采样集训练出一个基学习器，再将这些基学习器进行结合。\n"
   ]
  },
  {
   "attachments": {
    "image.png": {
     "image/png": "[encoded data removed]"
    }
   },
   "cell_type": "markdown",
   "metadata": {},
   "source": [
    "Bagging算法描述\n",
    "\n",
    "输入：训练集D={（x1,y1）,（x2,y2）,.......,(xm,ym)};\n",
    "\n",
    "基学习算法£； \n",
    "     \n",
    "训练轮数T；\n",
    "过程：\n",
    "\n",
    "1：for t=1,2,...,T do\n",
    "\n",
    "2:    ht=£(D,Dbs)  #Dbs是自助采样产生的样本分布\n",
    "\n",
    "3:end for\n",
    "\n",
    "输出：![image.png](attachment:image.png)"
   ]
  },
  {
   "cell_type": "code",
   "execution_count": 3,
   "metadata": {},
   "outputs": [],
   "source": [
    "import numpy as np\n",
    "import pandas as pd\n",
    "import math\n",
    "import random\n",
    "from sklearn.datasets import load_iris\n",
    "from sklearn.model_selection  import train_test_split\n",
    "import matplotlib.pyplot as plt\n",
    "%matplotlib inline"
   ]
  },
  {
   "cell_type": "code",
   "execution_count": 16,
   "metadata": {},
   "outputs": [],
   "source": [
    "def create_data():\n",
    "    iris = load_iris()\n",
    "    df = pd.DataFrame(iris.data, columns=iris.feature_names)\n",
    "    df['label'] = iris.target\n",
    "    df.columns = ['sepal length', 'sepal width', 'petal length', 'petal width', 'label']\n",
    "    data = np.array(df.iloc[:100, [0, 1, -1]])\n",
    "    for i in range(len(data)):\n",
    "        if data[i,-1] == 0:\n",
    "            data[i,-1] = -1\n",
    "    # print(data)\n",
    "    return data[:,:2], data[:,-1]"
   ]
  },
  {
   "cell_type": "code",
   "execution_count": 32,
   "metadata": {},
   "outputs": [],
   "source": [
    "X, y = create_data()\n",
    "X_train, X_test, y_train, y_test = train_test_split(X, y, test_size=0.2)"
   ]
  },
  {
   "cell_type": "code",
   "execution_count": 33,
   "metadata": {},
   "outputs": [
    {
     "data": {
      "text/plain": [
       "<matplotlib.legend.Legend at 0x265ad733f98>"
      ]
     },
     "execution_count": 33,
     "metadata": {},
     "output_type": "execute_result"
    },
    {
     "data": {
      "image/png": "[encoded data removed]",
      "text/plain": [
       "<matplotlib.figure.Figure at 0x265ad6d82b0>"
      ]
     },
     "metadata": {},
     "output_type": "display_data"
    }
   ],
   "source": [
    "plt.scatter(X[:50,0],X[:50,1], label='-1')\n",
    "plt.scatter(X[50:,0],X[50:,1], label='1')\n",
    "plt.legend()"
   ]
  },
  {
   "cell_type": "code",
   "execution_count": 34,
   "metadata": {},
   "outputs": [],
   "source": [
    "class baggingModel():\n",
    "    def __init__(self,iterations=10,baseLearningAlgorithm='simpleClassify'):\n",
    "        self.iterations=iterations  #训练轮数\n",
    "        self.baseLearningAlgorithm=baseLearningAlgorithm  #基学习算法\n",
    "        self.yCount={}\n",
    "        self.weakClassifierArr=[]\n",
    "\n",
    "\n",
    "\n",
    "    def train(self,Xtrain,ytrain):\n",
    "        m,n=Xtrain.shape\n",
    "        self.yCount=self.count_y(ytrain)\n",
    "        ytrain=np.mat(ytrain)\n",
    "        if self.baseLearningAlgorithm == 'simpleClassify':\n",
    "            sc = simpleClassifyModel()\n",
    "            for iter in range(self.iterations):\n",
    "                Dbs,ybs=self.bootstrapSampling(Xtrain,ytrain)\n",
    "                sc.train(Dbs,ybs)\n",
    "                featIndex=sc.bestStump['featIndex']\n",
    "                thresh=sc.bestStump['thresh']\n",
    "                ineq=sc.bestStump['inequal']\n",
    "                self.weakClassifierArr.append((featIndex,thresh,ineq))\n",
    "        print(\"bagging train complete!\")\n",
    "\n",
    "\n",
    "    def count_y(self,y):\n",
    "        dict={}\n",
    "        for _ in y:\n",
    "            if _ not in dict.keys():\n",
    "                dict[_]=1\n",
    "            else:\n",
    "                dict[_]+=1\n",
    "        return dict\n",
    "\n",
    "\n",
    "    def bootstrapSampling(self,Xtrain,ytrain):\n",
    "        m,n=Xtrain.shape\n",
    "        bs=np.zeros((m,n))\n",
    "        ybs=np.zeros((1,m))\n",
    "        Dlist=range(m)\n",
    "        for i in Dlist:\n",
    "            j=random.choice(Dlist)\n",
    "            bs[i,:]=Xtrain[j,:]\n",
    "            ybs[0,i]=ytrain[0,j]\n",
    "        return bs,ybs\n",
    "\n",
    "\n",
    "    def predict(self,Xtest):\n",
    "        bestY=math.inf\n",
    "        bestH=-math.inf\n",
    "        Xtest=np.mat(Xtest)\n",
    "        if self.baseLearningAlgorithm == 'simpleClassify':\n",
    "            predictSC=simpleClassifyModel()\n",
    "            for y in self.yCount.keys():\n",
    "                H=0\n",
    "                for i in range(len(self.weakClassifierArr)):\n",
    "                    predictVal=predictSC.predict(Xtest,self.weakClassifierArr[i][0],self.weakClassifierArr[i][1],self.weakClassifierArr[i][2])\n",
    "                    if float(predictVal[0,0])==y:\n",
    "                        H+=1\n",
    "                if H>bestH:\n",
    "                    bestH=H\n",
    "                    bestY=y\n",
    "\n",
    "        return bestY\n",
    "\n",
    "\n",
    "    def score(self,Xtest,ytest):\n",
    "        m = Xtest.shape[0]\n",
    "        ytest=np.mat(ytest)\n",
    "        predictVals = np.zeros((m, 1))\n",
    "        for i in range(m):\n",
    "            predictVals[i]=self.predict(Xtest[i])\n",
    "        accuracy=(predictVals==ytest.T)\n",
    "        accuracy=np.sum(accuracy)/m\n",
    "        print(\"accuracy is \",accuracy*100)\n",
    "\n",
    "\n",
    "\n",
    "class simpleClassifyModel():\n",
    "    def __init__(self):\n",
    "        self.bestStump={}\n",
    "\n",
    "\n",
    "    def train(self,Xtrain,ytrain):\n",
    "        m,n=Xtrain.shape\n",
    "        ytrain=np.mat(ytrain)\n",
    "        numSteps=10\n",
    "        maxAccuracy=-math.inf\n",
    "        bestFeatIndex=-1\n",
    "        bestThresh=math.inf\n",
    "        bestInEqual=None\n",
    "        for i in range(n):\n",
    "            rangeMin=np.min(Xtrain[:,i])\n",
    "            rangeMax=np.max(Xtrain[:,i])\n",
    "            stepSize=(rangeMax-rangeMin)/numSteps\n",
    "            for j in range(-1,numSteps+1):\n",
    "                for inequal in ['lt','gt']:\n",
    "                    threshVal=rangeMin+j*stepSize\n",
    "                    predictVals=self.predict(Xtrain,i,threshVal,inequal)\n",
    "                    accuracy=np.sum(predictVals==ytrain.T)\n",
    "                    if accuracy>maxAccuracy:\n",
    "                        maxAccuracy=accuracy\n",
    "                        bestFeatIndex=i\n",
    "                        bestThresh=threshVal\n",
    "                        bestInEqual=inequal\n",
    "\n",
    "        self.bestStump['featIndex']=bestFeatIndex\n",
    "        self.bestStump['thresh']=bestThresh\n",
    "        self.bestStump['inequal']=bestInEqual\n",
    "        print(\"fit complete!\")\n",
    "\n",
    "\n",
    "    def predict(self,X,featIndex,threshVal,inequal):\n",
    "        m=X.shape[0]\n",
    "        predictVals=np.ones((m,1))\n",
    "        if inequal=='lt':\n",
    "            predictVals[X[:,featIndex]<=threshVal]=-1\n",
    "        else:\n",
    "            predictVals[X[:,featIndex]>threshVal]=-1\n",
    "        return predictVals\n",
    "\n",
    "\n",
    "    def score(self,X,y):\n",
    "        y=np.mat(y)\n",
    "        m=X.shape[0]\n",
    "        predictVals=self.predict(X,self.bestStump['featIndex'],self.bestStump['thresh'],self.bestStump['inequal'])\n",
    "        accuracy = (predictVals == y.T)\n",
    "        accuracy = np.sum(accuracy) / m\n",
    "        print(\"accuracy is \", accuracy*100)"
   ]
  },
  {
   "cell_type": "code",
   "execution_count": 35,
   "metadata": {},
   "outputs": [
    {
     "name": "stdout",
     "output_type": "stream",
     "text": [
      "fit complete!\n",
      "without bagging training accuracy:\n",
      "accuracy is  88.75\n",
      "without bagging testing accuracy:\n",
      "accuracy is  90.0\n"
     ]
    }
   ],
   "source": [
    "mySC=simpleClassifyModel()\n",
    "mySC.train(X_train,y_train)\n",
    "\n",
    "print(\"without bagging training accuracy:\")\n",
    "mySC.score(X_train,y_train)\n",
    "\n",
    "print(\"without bagging testing accuracy:\")\n",
    "mySC.score(X_test,y_test)"
   ]
  },
  {
   "cell_type": "code",
   "execution_count": 36,
   "metadata": {},
   "outputs": [
    {
     "name": "stdout",
     "output_type": "stream",
     "text": [
      "fit complete!\n",
      "fit complete!\n",
      "fit complete!\n",
      "fit complete!\n",
      "fit complete!\n",
      "fit complete!\n",
      "fit complete!\n",
      "fit complete!\n",
      "fit complete!\n",
      "fit complete!\n",
      "bagging train complete!\n",
      "with bagging training accuracy:\n",
      "accuracy is  92.5\n",
      "with bagging testing accuracy:\n",
      "accuracy is  95.0\n"
     ]
    }
   ],
   "source": [
    "myBG=baggingModel()\n",
    "myBG.train(X_train,y_train)\n",
    "print(\"with bagging training accuracy:\")\n",
    "myBG.score(X_train,y_train)\n",
    "print(\"with bagging testing accuracy:\")\n",
    "myBG.score(X_test,y_test)"
   ]
  },
  {
   "cell_type": "code",
   "execution_count": null,
   "metadata": {},
   "outputs": [],
   "source": []
  }
 ],
 "metadata": {
  "kernelspec": {
   "display_name": "Python 3",
   "language": "python",
   "name": "python3"
  },
  "language_info": {
   "codemirror_mode": {
    "name": "ipython",
    "version": 3
   },
   "file_extension": ".py",
   "mimetype": "text/x-python",
   "name": "python",
   "nbconvert_exporter": "python",
   "pygments_lexer": "ipython3",
   "version": "3.6.3"
  }
 },
 "nbformat": 4,
 "nbformat_minor": 2
}
