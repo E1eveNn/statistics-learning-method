{
 "cells": [
  {
   "cell_type": "markdown",
   "metadata": {},
   "source": [
    "# CART假设决策树是二叉树，既可以用于分类也可以用于回归"
   ]
  },
  {
   "cell_type": "markdown",
   "metadata": {},
   "source": [
    "# CART生成算法（分类树）\n",
    "输入：训练数据集D，停止计算的条件；\n",
    "\n",
    "输出：CART决策树\n",
    "\n",
    "根据训练数据集，从根结点开始，递归地对每个结点进行以下操作，构建二叉树：\n",
    "\n",
    "    （1）设节点的训练数据集为D，计算现有特征对该数据集的基尼指数。此时，对每一个特征A，对其可能取得每个值a，根据样本点对A=a的测试为“是”或“否”将D分割成D1和D2两部分，利用式（1）计算A=a时的基尼指数。\n",
    "    \n",
    "    （2）在所有可能的特征A以及它们所有可能的切分点a中，选择基尼指数最小的特征及其对应的切分点作为最优特征与最优切分点。依最优特征与最优切分点，从现结点生成两个子结点，将训练数据集依特征分配到两个子结点中去。\n",
    "    \n",
    "    （3）对两个子结点递归地调用（1），（2），直到满足停止条件。\n",
    "    \n",
    "    （4）生成CART决策树。\n",
    "    \n",
    "算法停止条件是结点中的样本个数小于预定阈值或样本集的基尼指数小于预定阈值，或者没有更多特征。"
   ]
  },
  {
   "cell_type": "code",
   "execution_count": 1,
   "metadata": {},
   "outputs": [],
   "source": [
    "import operator\n",
    "import math\n",
    "\n",
    "class Node:\n",
    "    def __init__(self, label=None, featureIndex=None,feature_name=None, parentNode=None, leaf=False):\n",
    "        self.label = label\n",
    "        self.leaf = leaf  # 是否为叶结点\n",
    "        self.featureIndex = featureIndex\n",
    "        self.feature_name = feature_name\n",
    "        self.parentNode = parentNode\n",
    "        self.childNodeList = {}  # 存的是子结点，如feature_name是身高，key可能存的是高，矮,value为不同key时对应的node\n",
    "\n",
    "    def predict(self,node,Xtest):\n",
    "        if node.leaf:\n",
    "            return node.label\n",
    "        else:\n",
    "            currentFeatIndex=node.featureIndex\n",
    "            currentFeatVal=Xtest[currentFeatIndex]\n",
    "            if currentFeatVal in node.childNodeList.keys():\n",
    "                return self.predict(node.childNodeList[currentFeatVal],Xtest)\n",
    "            else:\n",
    "                return self.predict(node.childNodeList[u'其他'],Xtest)\n",
    "\n",
    "\n",
    "\n",
    "\n",
    "class dTree:\n",
    "    def __init__(self, epsilon=0.1):\n",
    "        self.epsilon = epsilon\n",
    "        self.myTree = None\n",
    "        self.completeDataSets=None\n",
    "        self.completeAttrs = None\n",
    "\n",
    "\n",
    "    def treeGenerate(self,dataSets,labels,pattern='classification'):\n",
    "        self.myTree=Node()\n",
    "        self.completeDataSets=dataSets.copy()\n",
    "        self.completeAttrs = labels.copy()\n",
    "        self.recursive(dataSets,labels,pattern,self.myTree)\n",
    "        print(\"generate tree success!\")\n",
    "\n",
    "\n",
    "    def recursive(self, dataSets, labels,pattern, node=Node()):\n",
    "        if self.isSameClass(dataSets):\n",
    "            node.label = dataSets[0][-1]\n",
    "            node.leaf = True\n",
    "            return\n",
    "        if len(labels[:-1]) == 0:\n",
    "            node.label = self.majorityClass(dataSets)\n",
    "            node.leaf = True\n",
    "            return\n",
    "\n",
    "        bestFeatIndex,bestFeatVal = self.chooseBestFeatureToSplit(dataSets, labels)\n",
    "        node.featureIndex = bestFeatIndex\n",
    "        node.feature_name = self.completeAttrs[bestFeatIndex]\n",
    "        equalSubDataSets, unequalSubDataSets = self.splitData(dataSets,bestFeatIndex, bestFeatVal)\n",
    "        subDataSets=[equalSubDataSets,unequalSubDataSets]\n",
    "        for i in range(2):\n",
    "            subNode=Node()\n",
    "            if i==0:\n",
    "                node.childNodeList[bestFeatVal]=subNode\n",
    "            else:\n",
    "                node.childNodeList[u'其他'] = subNode\n",
    "            subNode.parentNode=node\n",
    "            if len(subDataSets[i])==0:\n",
    "                subNode.leaf=True\n",
    "                subNode.label=self.majorityClass(dataSets)\n",
    "            else:\n",
    "                subLabels = labels.copy()\n",
    "                subLabels.remove(self.completeAttrs[bestFeatIndex])\n",
    "                self.recursive(subDataSets[i],subLabels,pattern,subNode)\n",
    "\n",
    "\n",
    "\n",
    "    def chooseBestFeatureToSplit(self, dataSets, labels):\n",
    "        m = len(dataSets)\n",
    "        bestGiniIndex = math.inf\n",
    "        bestFeatIndex = -1\n",
    "        bestFeatVal=None\n",
    "        for i in range(len(labels) - 1):  # 遍历每个属性\n",
    "            j=self.completeAttrs.index(labels[i])\n",
    "            featList = [data[j] for data in dataSets]\n",
    "            uniqueFeats = set(featList) #当前属性的取值\n",
    "            currentGiniIndex=0\n",
    "            for feat in uniqueFeats: #遍历当前属性的每个取值\n",
    "                equalSubDataSets, unequalSubDataSets = self.splitData(dataSets, j, feat) #根据当前属性j的当前取值feat来分割dataSets，equalSubDataSets里存放的是dataSets上属性j取值为feat的样本，unequalSubDataSets里存放的是ataSets上属性j取值不为feat的样本\n",
    "                equal_prob=len(equalSubDataSets)/m\n",
    "                unequal_prob=len(unequalSubDataSets)/m\n",
    "                currentGiniIndex=equal_prob*self.calcGini(equalSubDataSets)+unequal_prob*self.calcGini(unequalSubDataSets)\n",
    "                if currentGiniIndex <= bestGiniIndex:\n",
    "                    bestGiniIndex = currentGiniIndex\n",
    "                    bestFeatIndex = j\n",
    "                    bestFeatVal=feat\n",
    "        return bestFeatIndex,bestFeatVal\n",
    "\n",
    "\n",
    "    def splitData(self, dataSets, featIndex, featVals):\n",
    "        equalSubDataSets=[]\n",
    "        unequalSubDataSets=[]\n",
    "        for data in dataSets:\n",
    "            if data[featIndex]==featVals:\n",
    "                equalSubDataSets.append(data)\n",
    "            else:\n",
    "                unequalSubDataSets.append(data)\n",
    "        return equalSubDataSets,unequalSubDataSets\n",
    "\n",
    "\n",
    "    def calcGini(self, dataSets):\n",
    "        giniIndex=1\n",
    "        m=len(dataSets)\n",
    "        classCountDict=self.classCount(dataSets)\n",
    "        for key,value in classCountDict.items():\n",
    "            probability=value/m\n",
    "            giniIndex-=(probability**2)\n",
    "        return giniIndex\n",
    "\n",
    "\n",
    "\n",
    "    def isSameClass(self, dataSets):\n",
    "        C = dataSets[0][-1]  # 第一个样本的类\n",
    "        for data in dataSets:\n",
    "            if C != data[-1]:\n",
    "                return False\n",
    "        return True\n",
    "\n",
    "\n",
    "\n",
    "    def majorityClass(self, dataSets):\n",
    "        classCountDict = self.classCount(dataSets)\n",
    "        sortedClassCount = sorted(classCountDict.items(), key=operator.itemgetter(1),reverse=True)\n",
    "        return sortedClassCount[0][0]\n",
    "\n",
    "\n",
    "    def classCount(self,dataSets):\n",
    "        classCountDict = {}\n",
    "        for data in dataSets:\n",
    "            if data[-1] not in classCountDict.keys():\n",
    "                classCountDict[data[-1]] = 1\n",
    "            else:\n",
    "                classCountDict[data[-1]] += 1\n",
    "        return classCountDict\n",
    "\n",
    "\n",
    "    def predict(self,Xtest):\n",
    "        return self.myTree.predict(self.myTree,Xtest)\n",
    "\n",
    "\n",
    "    def score(self,testDatas):\n",
    "        #testDatas需要是至少有两个样本的list\n",
    "        y=[data[-1] for data in testDatas]\n",
    "        predictY=[]\n",
    "        for Xtest in testDatas:\n",
    "            predictY.append(self.predict(Xtest[:-1]))\n",
    "        m=len(y)\n",
    "        count=0\n",
    "        for i in range(m):\n",
    "            if y[i]==predictY[i]:\n",
    "                count+=1\n",
    "        accuracy=float(count/m)*100\n",
    "        print(y)\n",
    "        print(predictY)\n",
    "        print(\"accuracy is \"+str(accuracy)+\"%\")\n"
   ]
  },
  {
   "cell_type": "code",
   "execution_count": 2,
   "metadata": {},
   "outputs": [
    {
     "name": "stdout",
     "output_type": "stream",
     "text": [
      "generate tree success!\n",
      "['否', '否', '是', '是', '否', '否', '否', '是', '是', '是', '是', '是', '是', '是', '否']\n",
      "['否', '否', '是', '是', '否', '否', '否', '是', '是', '是', '是', '是', '是', '是', '否']\n",
      "accuracy is 100.0%\n"
     ]
    }
   ],
   "source": [
    "firstDataSets = [['青年', '否', '否', '一般', '否'],\n",
    "               ['青年', '否', '否', '好', '否'],\n",
    "               ['青年', '是', '否', '好', '是'],\n",
    "               ['青年', '是', '是', '一般', '是'],\n",
    "               ['青年', '否', '否', '一般', '否'],\n",
    "               ['中年', '否', '否', '一般', '否'],\n",
    "               ['中年', '否', '否', '好', '否'],\n",
    "               ['中年', '是', '是', '好', '是'],\n",
    "               ['中年', '否', '是', '非常好', '是'],\n",
    "               ['中年', '否', '是', '非常好', '是'],\n",
    "               ['老年', '否', '是', '非常好', '是'],\n",
    "               ['老年', '否', '是', '好', '是'],\n",
    "               ['老年', '是', '否', '好', '是'],\n",
    "               ['老年', '是', '否', '非常好', '是'],\n",
    "               ['老年', '否', '否', '一般', '否'],]\n",
    "\n",
    "firstLabels = [u'年龄', u'有工作', u'有自己的房子', u'信贷情况', u'类别']\n",
    "\n",
    "firstMyTree=dTree()\n",
    "firstMyTree.treeGenerate(firstDataSets,firstLabels)\n",
    "firstMyTree.score(firstDataSets)"
   ]
  },
  {
   "cell_type": "markdown",
   "metadata": {},
   "source": [
    "# 第一组数据生成的决策树"
   ]
  },
  {
   "cell_type": "markdown",
   "metadata": {},
   "source": [
    "![image.png](./CART_tree_pics/Figure_1.png)"
   ]
  },
  {
   "cell_type": "code",
   "execution_count": 3,
   "metadata": {},
   "outputs": [
    {
     "name": "stdout",
     "output_type": "stream",
     "text": [
      "generate tree success!\n",
      "[1, 1, 1, 1, 1, 1, 1, 1, 0, 0, 0, 0, 0, 0, 0, 0, 0]\n",
      "[1, 1, 1, 1, 1, 1, 1, 1, 0, 0, 0, 0, 0, 0, 0, 0, 0]\n",
      "accuracy is 100.0%\n"
     ]
    }
   ],
   "source": [
    "secondDataSets=[\n",
    "['青绿','蜷缩','浊响','清晰','凹陷','硬滑',1],\n",
    "['乌黑','蜷缩','沉闷','清晰','凹陷','硬滑',1],\n",
    "['乌黑','蜷缩','浊响','清晰','凹陷','硬滑',1],\n",
    "['青绿','蜷缩','沉闷','清晰','凹陷','硬滑',1],\n",
    "['浅白','蜷缩','浊响','清晰','凹陷','硬滑',1],\n",
    "['青绿','稍蜷','浊响','清晰','稍凹','软粘',1],\n",
    "['乌黑','稍蜷','浊响','稍糊','稍凹','软粘',1],\n",
    "['乌黑','稍蜷','浊响','清晰','稍凹','硬滑',1],\n",
    "['乌黑','稍蜷','沉闷','稍糊','稍凹','硬滑',0],\n",
    "['青绿','硬挺','清脆','清晰','平坦','软粘',0],\n",
    "['浅白','硬挺','清脆','模糊','平坦','硬滑',0],\n",
    "['浅白','蜷缩','浊响','模糊','平坦','软粘',0],\n",
    "['青绿','稍蜷','浊响','稍糊','凹陷','硬滑',0],\n",
    "['浅白','稍蜷','沉闷','稍糊','凹陷','硬滑',0],\n",
    "['乌黑','稍蜷','浊响','清晰','稍凹','软粘',0],\n",
    "['浅白','蜷缩','浊响','模糊','平坦','硬滑',0],\n",
    "['青绿','蜷缩','沉闷','稍糊','稍凹','硬滑',0]]\n",
    "\n",
    "secondLabels=[u'色泽', u'根蒂', u'敲声', u'纹理', u'脐部', u'触感',u'类别']\n",
    "\n",
    "\n",
    "secondMyTree=dTree()\n",
    "secondMyTree.treeGenerate(secondDataSets,secondLabels)\n",
    "secondMyTree.score(secondDataSets)"
   ]
  },
  {
   "cell_type": "markdown",
   "metadata": {},
   "source": [
    "# 第二组数据生成的决策树"
   ]
  },
  {
   "cell_type": "markdown",
   "metadata": {},
   "source": [
    "![image.png](./CART_tree_pics/Figure_2.png)"
   ]
  },
  {
   "cell_type": "code",
   "execution_count": 4,
   "metadata": {},
   "outputs": [
    {
     "name": "stdout",
     "output_type": "stream",
     "text": [
      "generate tree success!\n",
      "[1, 1, 1, 1, 1, 0, 0, 0, 0, 0]\n",
      "[1, 1, 1, 1, 1, 0, 0, 1, 0, 0]\n",
      "accuracy is 90.0%\n"
     ]
    }
   ],
   "source": [
    "thirdDataSets=[\n",
    "['青绿', '蜷缩', '浊响', '清晰', '凹陷', '硬滑', 1],\n",
    "['乌黑', '蜷缩', '沉闷', '清晰', '凹陷', '硬滑', 1],\n",
    "['乌黑', '蜷缩', '浊响', '清晰', '凹陷', '硬滑', 1],\n",
    "['青绿', '稍蜷', '浊响', '清晰', '稍凹', '软粘', 1],\n",
    "['乌黑', '稍蜷', '浊响', '稍糊', '稍凹', '软粘', 1],\n",
    "['青绿', '硬挺', '清脆', '清晰', '平坦', '软粘', 0],\n",
    "['浅白', '稍蜷', '沉闷', '稍糊', '凹陷', '硬滑', 0],\n",
    "['乌黑', '稍蜷', '浊响', '清晰', '稍凹', '软粘', 0],\n",
    "['浅白', '蜷缩', '浊响', '模糊', '平坦', '硬滑', 0],\n",
    "['青绿', '蜷缩', '沉闷', '稍糊', '稍凹', '硬滑', 0]]\n",
    "\n",
    "thirdLabels=[u'色泽', u'根蒂', u'敲声', u'纹理', u'脐部', u'触感',u'类别']\n",
    "\n",
    "thirdTestDataSets=[\n",
    "['青绿','蜷缩','沉闷','清晰','凹陷','硬滑',1],\n",
    "['浅白','蜷缩','浊响','清晰','凹陷','硬滑',1],\n",
    "['乌黑','稍蜷','浊响','清晰','稍凹','硬滑',1],\n",
    "['乌黑','稍蜷','沉闷','稍糊','稍凹','硬滑',0],\n",
    "['浅白','硬挺','清脆','模糊','平坦','硬滑',0],\n",
    "['浅白','蜷缩','浊响','模糊','平坦','软粘',0],\n",
    "['青绿','稍蜷','浊响','稍糊','凹陷','硬滑',0]]\n",
    "\n",
    "thirdMyTree=dTree()\n",
    "thirdMyTree.treeGenerate(thirdDataSets,thirdLabels)\n",
    "thirdMyTree.score(thirdDataSets)"
   ]
  },
  {
   "cell_type": "markdown",
   "metadata": {},
   "source": [
    "# 第三组数据生成的决策树"
   ]
  },
  {
   "cell_type": "markdown",
   "metadata": {},
   "source": [
    "![image.png](./CART_tree_pics/Figure_3.png)"
   ]
  },
  {
   "cell_type": "code",
   "execution_count": 5,
   "metadata": {},
   "outputs": [
    {
     "name": "stdout",
     "output_type": "stream",
     "text": [
      "[1, 1, 1, 0, 0, 0, 0]\n",
      "[1, 0, 1, 0, 0, 0, 0]\n",
      "accuracy is 85.71428571428571%\n"
     ]
    }
   ],
   "source": [
    "thirdMyTree.score(thirdTestDataSets)"
   ]
  },
  {
   "cell_type": "markdown",
   "metadata": {},
   "source": [
    "# CART回归树与剪枝比较复杂，因时间原因暂不实现，以后补上"
   ]
  },
  {
   "cell_type": "code",
   "execution_count": 3,
   "metadata": {},
   "outputs": [],
   "source": [
    "from sklearn.datasets import load_boston\n",
    "import numpy as np\n",
    "import pandas as pd"
   ]
  },
  {
   "cell_type": "code",
   "execution_count": 8,
   "metadata": {},
   "outputs": [],
   "source": [
    "def create_data():\n",
    "    boston = load_boston()\n",
    "    return boston.data,boston.target,boston.feature_names\n",
    "X,y,attrs=create_data()"
   ]
  }
 ],
 "metadata": {
  "kernelspec": {
   "display_name": "Python 3",
   "language": "python",
   "name": "python3"
  },
  "language_info": {
   "codemirror_mode": {
    "name": "ipython",
    "version": 3
   },
   "file_extension": ".py",
   "mimetype": "text/x-python",
   "name": "python",
   "nbconvert_exporter": "python",
   "pygments_lexer": "ipython3",
   "version": "3.6.7"
  }
 },
 "nbformat": 4,
 "nbformat_minor": 2
}
