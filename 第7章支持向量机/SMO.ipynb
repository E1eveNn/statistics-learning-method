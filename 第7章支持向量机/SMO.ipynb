{
 "cells": [
  {
   "cell_type": "markdown",
   "metadata": {},
   "source": [
    "# 线性可分支持向量机学习算法-最大间隔法"
   ]
  },
  {
   "attachments": {},
   "cell_type": "markdown",
   "metadata": {},
   "source": [
    "<img src='./pics/img1.png'></img>"
   ]
  },
  {
   "attachments": {},
   "cell_type": "markdown",
   "metadata": {},
   "source": [
    "在样本空间中，划分超平面可通过如下线性方程来描述：<img src='./pics/formula1.png'></img>\n",
    "            \n",
    "其中w=(w1;w2;...;wd)为法向量，决定了超平面的方向；b为位移项，决定了超平面与原点之间的距离。"
   ]
  },
  {
   "attachments": {},
   "cell_type": "markdown",
   "metadata": {},
   "source": [
    "样本空间中任意点x到超平面(w,b)的距离可写为<img src='./pics/formula2.png'></img>\n",
    "                     \n",
    "            "
   ]
  },
  {
   "attachments": {},
   "cell_type": "markdown",
   "metadata": {},
   "source": [
    "假设超平面(w,b)能将训练样本正确分类，即对于(xi,yi)\n",
    "\n",
    "若yi=+1,则<img src='./pics/formula3.png'></img>"
   ]
  },
  {
   "attachments": {},
   "cell_type": "markdown",
   "metadata": {},
   "source": [
    "若yi=-1，则<img src='./pics/formula4.png'></img>即存在一个数d，满足        "
   ]
  },
  {
   "attachments": {},
   "cell_type": "markdown",
   "metadata": {},
   "source": [
    "<img src='./pics/formula5.png'></img>"
   ]
  },
  {
   "attachments": {},
   "cell_type": "markdown",
   "metadata": {},
   "source": [
    "<img src='./pics/formula6.png'></img>"
   ]
  },
  {
   "attachments": {},
   "cell_type": "markdown",
   "metadata": {},
   "source": [
    "等式两边做缩放变换，同除以d，得到<img src='./pics/formula7.png'></img>\n",
    "                   "
   ]
  },
  {
   "attachments": {},
   "cell_type": "markdown",
   "metadata": {},
   "source": [
    "<img src='./pics/formula8.png'></img>"
   ]
  },
  {
   "attachments": {},
   "cell_type": "markdown",
   "metadata": {},
   "source": [
    "其中θ=w/d，因为θ就是符号代号，将它重新写为w。\n",
    "\n",
    "距离超平面最近的这几个训练样本使上式等号成立，它们被称为“支持向量”，两个异类支持向量到超平面的距离之和为\n",
    "<img src='./pics/formula9.png'></img>\n",
    "                    \n",
    "它们被称为“间隔”                "
   ]
  },
  {
   "attachments": {},
   "cell_type": "markdown",
   "metadata": {},
   "source": [
    "欲找到具有“最大间隔”的划分超平面，也就是要找到满足上式的w和b，使得r最大。\n",
    "<img src='./pics/formula10.png'></img>"
   ]
  },
  {
   "attachments": {},
   "cell_type": "markdown",
   "metadata": {},
   "source": [
    "<img src='./pics/formula11.png'></img>"
   ]
  },
  {
   "attachments": {},
   "cell_type": "markdown",
   "metadata": {},
   "source": [
    "等价于\n",
    "<img src='./pics/formula12.png'></img>            "
   ]
  },
  {
   "attachments": {},
   "cell_type": "markdown",
   "metadata": {},
   "source": [
    "<img src='./pics/formula13.png'></img>这就是支持向量机的基本型。间隔貌似仅与w有关，但事实上b通过约束隐式地影响着w的取值，进而对间隔产生影响。"
   ]
  },
  {
   "cell_type": "markdown",
   "metadata": {},
   "source": [
    "# 学习的对偶算法"
   ]
  },
  {
   "attachments": {},
   "cell_type": "markdown",
   "metadata": {},
   "source": [
    "首先构建拉格朗日函数，对每一个不等式约束引进拉格朗日乘子αi>=0,i=1,2,...,m,定义拉格朗日函数<img src='./pics/formula14.png'></img>根据拉格朗日对偶性，原始问题的对偶问题是极大极小的问题，即"
   ]
  },
  {
   "attachments": {},
   "cell_type": "markdown",
   "metadata": {},
   "source": [
    "<img src='./pics/formula15.png'></img>(1)求min\n",
    "\n",
    "将拉格朗日函数L(w,b,α)分别对w,b求偏导数并令其等于0，得"
   ]
  },
  {
   "attachments": {},
   "cell_type": "markdown",
   "metadata": {},
   "source": [
    "<img src='./pics/formula16.png'></img>"
   ]
  },
  {
   "attachments": {},
   "cell_type": "markdown",
   "metadata": {},
   "source": [
    "<img src='./pics/formula17.png'></img>将上式带入拉格朗日函数可得"
   ]
  },
  {
   "attachments": {},
   "cell_type": "markdown",
   "metadata": {},
   "source": [
    "<img src='./pics/formula18.png'></img>解出α后，求出w与b即可得到模型"
   ]
  },
  {
   "attachments": {},
   "cell_type": "markdown",
   "metadata": {},
   "source": [
    "<img src='./pics/formula19.png'></img>"
   ]
  },
  {
   "attachments": {},
   "cell_type": "markdown",
   "metadata": {},
   "source": [
    "上述过程需满足KKT条件，即要求<img src='./pics/formula20.png'></img>于是，对任意训练样本(xi,yi)，总有αi=0或yif(xi)=1.若αi=0,则该样本将不会在上述求和中出现，也就不会对f(x)有任何影响;若αi>0,则必有yif(xi)=1，所对应的样本点位于最大间隔边界上，是一个支持向量。"
   ]
  },
  {
   "cell_type": "markdown",
   "metadata": {},
   "source": [
    "# 线性支持向量机与软间隔最大化"
   ]
  },
  {
   "attachments": {},
   "cell_type": "markdown",
   "metadata": {},
   "source": [
    "线性不可分意味着某些样本点(xi,yi)不能满足函数间隔大于等于1的约束条件。为了解决这个问题，可以对每个样本点(xi,yi)引进一个松弛变量ξi>=0，使函数间隔加上松弛变量大于等于1，这样，约束条件变为<img src='./pics/formula21.png'></img>同时，对每个松弛变量ξi支付一个代价ξi，目标函数由原来的1/2||w||^2变成"
   ]
  },
  {
   "attachments": {},
   "cell_type": "markdown",
   "metadata": {},
   "source": [
    "<img src='./pics/formula22.png'></img>这里，C>0称为惩罚参数。"
   ]
  },
  {
   "attachments": {},
   "cell_type": "markdown",
   "metadata": {},
   "source": [
    "线性不可分的线性支持向量机的学习问题变成如下凸二次规划问题(原始问题)：<img src='./pics/formula23.png'></img>"
   ]
  },
  {
   "cell_type": "markdown",
   "metadata": {},
   "source": [
    "# 学习的对偶算法"
   ]
  },
  {
   "attachments": {},
   "cell_type": "markdown",
   "metadata": {},
   "source": [
    "参照线性可分支持向量机，可以得到拉格朗日函数：<img src='./pics/formula24.png'></img>对偶问题是拉格朗日函数的极大极小问题。\n",
    "\n",
    "首先求L(w,b,ξ,α,μ)对w,b,ξ的偏导数并令其等于0，得"
   ]
  },
  {
   "attachments": {},
   "cell_type": "markdown",
   "metadata": {},
   "source": [
    "<img src='./pics/formula25.png'></img>将上式代入拉格朗日函数可得"
   ]
  },
  {
   "attachments": {},
   "cell_type": "markdown",
   "metadata": {},
   "source": [
    "<img src='./pics/formula26.png'></img>将上式进行变换：利用等式约束消去μ，从而只留下α，从而得到对偶问题："
   ]
  },
  {
   "attachments": {},
   "cell_type": "markdown",
   "metadata": {},
   "source": [
    "<img src='./pics/formula27.png'></img>"
   ]
  },
  {
   "attachments": {},
   "cell_type": "markdown",
   "metadata": {},
   "source": [
    "对软间隔支持向量机，KKT条件要求<img src='./pics/formula28.png'></img>于是，对任意训练样本(xi,yi)，总有αi=0,或yif(xi)=1-ξ.若αi=0,则样本不会对f(x)有任何影响；若αi>0,则必有yif(xi)=1-ξ，即该样本是支持向量。由C=αi+μi可知，若αi<C,则μi>0，进而有ξi=0，即该样本恰在最大间隔边界上；若αi=C,则有μi=0,此时若ξi<=1,则该样本落在最大间隔内部，若ξi>1,则该样本被错误分类。"
   ]
  },
  {
   "cell_type": "markdown",
   "metadata": {},
   "source": [
    "对于SMO的介绍略，详见https://blog.csdn.net/c406495762/article/details/78072313"
   ]
  },
  {
   "cell_type": "code",
   "execution_count": 16,
   "metadata": {},
   "outputs": [],
   "source": [
    "import numpy as np\n",
    "import pandas as pd\n",
    "from sklearn.datasets import load_iris\n",
    "from sklearn.model_selection import  train_test_split\n",
    "import matplotlib.pyplot as plt\n",
    "%matplotlib inline"
   ]
  },
  {
   "cell_type": "code",
   "execution_count": 17,
   "metadata": {},
   "outputs": [],
   "source": [
    "def create_data():\n",
    "    iris = load_iris()\n",
    "    df = pd.DataFrame(iris.data, columns=iris.feature_names)\n",
    "    df['label'] = iris.target\n",
    "    df.columns = ['sepal length', 'sepal width', 'petal length', 'petal width', 'label']\n",
    "    data = np.array(df.iloc[:100, [0, 1, -1]])\n",
    "    for i in range(len(data)):\n",
    "        if data[i,-1] == 0:\n",
    "            data[i,-1] = -1\n",
    "    # print(data)\n",
    "    return data[:,:2], data[:,-1]"
   ]
  },
  {
   "cell_type": "code",
   "execution_count": 22,
   "metadata": {},
   "outputs": [],
   "source": [
    "X, y = create_data()\n",
    "X_train, X_test, y_train, y_test = train_test_split(X, y, test_size=0.25)"
   ]
  },
  {
   "cell_type": "code",
   "execution_count": 23,
   "metadata": {},
   "outputs": [
    {
     "data": {
      "text/plain": [
       "<matplotlib.legend.Legend at 0x13a3e9db518>"
      ]
     },
     "execution_count": 23,
     "metadata": {},
     "output_type": "execute_result"
    },
    {
     "data": {
      "image/png": "[encoded data removed]",
      "text/plain": [
       "<matplotlib.figure.Figure at 0x13a3e9760b8>"
      ]
     },
     "metadata": {},
     "output_type": "display_data"
    }
   ],
   "source": [
    "plt.scatter(X[:50,0],X[:50,1], label='-1')\n",
    "plt.scatter(X[50:,0],X[50:,1], label='1')\n",
    "plt.legend()"
   ]
  },
  {
   "cell_type": "code",
   "execution_count": 40,
   "metadata": {},
   "outputs": [],
   "source": [
    "class SMO():\n",
    "    def __init__(self):\n",
    "        self.alphas=None\n",
    "        self.m=None   #训练样本数\n",
    "        self.g=None   #保存所有的g(x_i)\n",
    "        self.E=None   #保存所有的E_i\n",
    "        self.C=None   #软间隔\n",
    "        self.b=None\n",
    "        self.Xtrain=None\n",
    "        self.ytrain=None\n",
    "\n",
    "\n",
    "\n",
    "    def init_params(self,Xtrain,ytrain,C,b):\n",
    "        m, n = Xtrain.shape\n",
    "        ytrain = np.mat(ytrain).T  # shape(m,1)\n",
    "        self.Xtrain = Xtrain\n",
    "        self.ytrain = ytrain\n",
    "        self.alphas = np.zeros((m, 1))\n",
    "        self.m = m\n",
    "        self.C = C\n",
    "        self.b = b\n",
    "        self.calcg(Xtrain, ytrain)\n",
    "        self.calcE(Xtrain, ytrain)\n",
    "        print(\"init params done!\")\n",
    "\n",
    "\n",
    "    def calcE(self,Xtrain,ytrain):  #计算误差0\n",
    "\n",
    "        E=self.g-ytrain\n",
    "        self.E=E\n",
    "\n",
    "\n",
    "    def calcg(self,Xtrain,ytrain):\n",
    "        g=np.zeros((self.m,1))\n",
    "        alpha_times_y=np.multiply(self.alphas,ytrain)  #shape:(m,1)\n",
    "        for i in range(self.m):\n",
    "            g[i]=alpha_times_y.T.dot(Xtrain.dot(Xtrain[i].T))+self.b\n",
    "        self.g=g\n",
    "\n",
    "\n",
    "    def updategi_Ei(self,index,Xtrain,ytrain):\n",
    "        alpha_times_y = np.multiply(self.alphas, ytrain)  # shape:(m,1)\n",
    "        for i in index:\n",
    "            self.g[i] = alpha_times_y.T.dot(Xtrain.dot(Xtrain[i].T))+self.b\n",
    "            self.E[i] = self.g[i] - ytrain[i]\n",
    "\n",
    "\n",
    "    def selectI(self,i,ytrain):\n",
    "        if ytrain[i]*self.g[i]==1 and 0<self.alphas[i]<self.C:\n",
    "            return False\n",
    "        elif ytrain[i]*self.g[i]>=1 and self.alphas[i]==0:\n",
    "            return False\n",
    "        elif ytrain[i]*self.g[i]<=1 and self.alphas[i]==self.C:\n",
    "            return False\n",
    "        return True\n",
    "\n",
    "\n",
    "\n",
    "    def selectJ(self,i):\n",
    "        E1=self.E[i]\n",
    "        j = np.argmax(self.E)\n",
    "        if E1>=0:\n",
    "            j=np.argmin(self.E)\n",
    "        return j\n",
    "\n",
    "\n",
    "    def reSelectJ(self,i,index_list):\n",
    "        flag=False\n",
    "        jIndex=-1\n",
    "        alpha2=0\n",
    "        for j in index_list:\n",
    "            if j!=i:\n",
    "                if self.ytrain[i]==self.ytrain[j]:\n",
    "                    L=max(0,self.alphas[j]+self.alphas[i]-self.C)\n",
    "                    H=min(self.C,self.alphas[j]+self.alphas[i])\n",
    "                else:\n",
    "                    L=max(0,self.alphas[j]-self.alphas[i])\n",
    "                    H=min(self.C,self.C+self.alphas[j]-self.alphas[i])\n",
    "                eta=self.Xtrain[i].dot(self.Xtrain[i].T)+self.Xtrain[j].dot(self.Xtrain[j].T)-2*self.Xtrain[i].dot(self.Xtrain[j].T)\n",
    "                if eta<=0:\n",
    "                    # print(\"eta<=0\")\n",
    "                    continue  #eta小于等于0，寻找下一对i,j\n",
    "                alpha2_new_unc=self.alphas[j]+self.ytrain[j]*(self.E[i]-self.E[j])/eta\n",
    "                alpha2_new=self.clipAlpha(alpha2_new_unc,L,H)\n",
    "                if abs(self.alphas[j] - alpha2_new) < 0.00001:#alpha2不能使目标函数有足够的下降\n",
    "                   continue\n",
    "                else:\n",
    "                    jIndex=j\n",
    "                    flag=True\n",
    "                    alpha2=alpha2_new\n",
    "                    return jIndex, alpha2, flag\n",
    "        return jIndex, alpha2, flag\n",
    "\n",
    "\n",
    "\n",
    "\n",
    "\n",
    "    def clipAlpha(self,alpha,L,H):\n",
    "        if alpha>H:\n",
    "            return H\n",
    "        elif alpha<L:\n",
    "            return L\n",
    "        return alpha\n",
    "\n",
    "\n",
    "\n",
    "    def fit(self,Xtrain,ytrain,C=1,b=0,maxIter=40):\n",
    "        self.init_params(Xtrain,ytrain,C,b)\n",
    "        ytrain = np.mat(ytrain).T\n",
    "        for iter in range(maxIter):\n",
    "            alphaPairsChanged=0\n",
    "            index_list=[]\n",
    "            satisfy_list = [i for i in range(self.m) if 0 < self.alphas[i] < self.C]\n",
    "            non_satisfy_list = [i for i in range(self.m) if i not in index_list]\n",
    "            index_list.extend(satisfy_list)\n",
    "            index_list.extend(non_satisfy_list)\n",
    "            for i in index_list:\n",
    "                if self.selectI(i, ytrain):  # return False表示满足kkt条件，需要找到不满足kkt条件的\n",
    "                    j = self.selectJ(i)\n",
    "                else: continue   #找到的i满足KKT条件，寻找下一个i\n",
    "                if ytrain[i]==ytrain[j]:\n",
    "                    L=max(0,self.alphas[j]+self.alphas[i]-self.C)\n",
    "                    H=min(self.C,self.alphas[j]+self.alphas[i])\n",
    "                else:\n",
    "                    L=max(0,self.alphas[j]-self.alphas[i])\n",
    "                    H=min(self.C,self.C+self.alphas[j]-self.alphas[i])\n",
    "                eta=Xtrain[i].dot(Xtrain[i].T)+Xtrain[j].dot(Xtrain[j].T)-2*Xtrain[i].dot(Xtrain[j].T)\n",
    "                if eta<=0:\n",
    "                    # print(\"eta<=0\")\n",
    "                    continue  #eta小于等于0，寻找下一对i,j\n",
    "                alpha2_new_unc=self.alphas[j]+ytrain[j]*(self.E[i]-self.E[j])/eta\n",
    "                alpha2_new=self.clipAlpha(alpha2_new_unc,L,H)\n",
    "                if abs(self.alphas[j] - alpha2_new) < 0.00001:#alpha2不能使目标函数有足够的下降\n",
    "                    # print(\"j not moving enough,iter %d times\"%(iter+1))\n",
    "                    jIndex,alpha2,flag=self.reSelectJ(i,index_list)\n",
    "                    if flag:   #找到了能使目标函数下降的alpha2\n",
    "                        j=jIndex\n",
    "                        alpha2_new=alpha2\n",
    "                    else:  #遍历完训练数据集也没找到合适的j，放弃当前i，寻找下一个i\n",
    "                        continue\n",
    "\n",
    "                alphaPairsChanged+=1\n",
    "\n",
    "                alpha1_new=self.alphas[i]+ytrain[i]*ytrain[j]*(self.alphas[j]-alpha2_new)\n",
    "                b1_new=-self.E[i]-ytrain[i]*(alpha1_new-self.alphas[i])*Xtrain[i].dot(Xtrain[i].T)-ytrain[j]*(alpha2_new-self.alphas[j])*Xtrain[j].dot(Xtrain[i].T)+self.b\n",
    "                b2_new=-self.E[j]-ytrain[i]*(alpha1_new-self.alphas[i])*Xtrain[i].dot(Xtrain[j].T)-ytrain[j]*(alpha2_new-self.alphas[j])*Xtrain[j].dot(Xtrain[j].T)+self.b\n",
    "                if 0<alpha1_new<self.C:\n",
    "                    b_new=b1_new\n",
    "                elif 0<alpha2_new<self.C:\n",
    "                    b_new = b2_new\n",
    "                else:\n",
    "                    b_new=(b1_new+b2_new)/2\n",
    "                #更新参数\n",
    "                self.alphas[i]=alpha1_new\n",
    "                self.alphas[j]=alpha2_new\n",
    "                self.b=b_new\n",
    "                #更新已经计算得到的g(x_i),E_i\n",
    "                self.updategi_Ei([i,j],Xtrain,ytrain)\n",
    "            print(\"iter: %d,alphaPairsChanged: %d\"%(iter+1,alphaPairsChanged))\n",
    "            if alphaPairsChanged==0:   #当一次迭代改变的alpha对数为0，则停止迭代\n",
    "                break\n",
    "        print(\"fit complete!\")\n",
    "\n",
    "\n",
    "    def predict(self,x):\n",
    "        result=np.multiply(self.alphas,self.ytrain).T.dot(self.Xtrain.dot(x.T))+self.b\n",
    "        return np.sign(result)\n",
    "\n",
    "\n",
    "    def score(self,Xtest,ytest):\n",
    "        m=Xtest.shape[0]\n",
    "        count=0\n",
    "        for i in range(m):\n",
    "            if self.predict(Xtest[i])==ytest[i]:\n",
    "                count+=1\n",
    "        print(\"accuracy is: \",count/m*100)\n",
    "    \n",
    "    \n",
    "    def drawFitLine(self,X):\n",
    "        #绘制直线\n",
    "        x_points = range(4, 8)\n",
    "        weights=np.sum(np.multiply(np.multiply(self.alphas,self.ytrain),self.Xtrain),axis=0)\n",
    "        y_ = -(weights[0,0] * x_points +self.b) / weights[0,1]\n",
    "        plt.plot(x_points, y_.T)\n",
    "        #找出支持向量\n",
    "        for i,alpha in enumerate(self.alphas):\n",
    "            if abs(alpha)>0:\n",
    "                x,y=X[i]\n",
    "                plt.scatter([x], [y], s=150, c='none', alpha=0.7, linewidth=1.5, edgecolor='red')\n",
    "        plt.scatter(X[:50, 0], X[:50, 1], label='-1')\n",
    "        plt.scatter(X[50:, 0], X[50:, 1], label='1')\n",
    "        plt.legend()\n",
    "        plt.show()"
   ]
  },
  {
   "cell_type": "code",
   "execution_count": 42,
   "metadata": {},
   "outputs": [
    {
     "name": "stdout",
     "output_type": "stream",
     "text": [
      "init params done!\n",
      "iter: 1,alphaPairsChanged: 75\n",
      "iter: 2,alphaPairsChanged: 29\n",
      "iter: 3,alphaPairsChanged: 8\n",
      "iter: 4,alphaPairsChanged: 4\n",
      "iter: 5,alphaPairsChanged: 3\n",
      "iter: 6,alphaPairsChanged: 3\n",
      "iter: 7,alphaPairsChanged: 1\n",
      "iter: 8,alphaPairsChanged: 1\n",
      "iter: 9,alphaPairsChanged: 0\n",
      "fit complete!\n",
      "accuracy is:  100.0\n"
     ]
    },
    {
     "data": {
      "image/png": "[encoded data removed]",
      "text/plain": [
       "<matplotlib.figure.Figure at 0x13a3e91b518>"
      ]
     },
     "metadata": {},
     "output_type": "display_data"
    }
   ],
   "source": [
    "smo=SMO()\n",
    "smo.fit(X_train,y_train)\n",
    "smo.score(X_test,y_test)\n",
    "smo.drawFitLine(X)"
   ]
  },
  {
   "cell_type": "code",
   "execution_count": null,
   "metadata": {},
   "outputs": [],
   "source": []
  }
 ],
 "metadata": {
  "kernelspec": {
   "display_name": "Python 3",
   "language": "python",
   "name": "python3"
  },
  "language_info": {
   "codemirror_mode": {
    "name": "ipython",
    "version": 3
   },
   "file_extension": ".py",
   "mimetype": "text/x-python",
   "name": "python",
   "nbconvert_exporter": "python",
   "pygments_lexer": "ipython3",
   "version": "3.6.7"
  }
 },
 "nbformat": 4,
 "nbformat_minor": 2
}
