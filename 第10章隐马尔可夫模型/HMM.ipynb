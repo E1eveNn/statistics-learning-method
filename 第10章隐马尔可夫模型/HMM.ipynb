{
 "cells": [
  {
   "attachments": {
    "image.png": {
     "image/png": "[encoded data removed]"
    }
   },
   "cell_type": "markdown",
   "metadata": {},
   "source": [
    "设Q是所有可能的状态的集合，V是所有可能的观测的集合。![image.png](attachment:image.png)"
   ]
  },
  {
   "attachments": {
    "image.png": {
     "image/png": "[encoded data removed]"
    }
   },
   "cell_type": "markdown",
   "metadata": {},
   "source": [
    "![image.png](attachment:image.png)"
   ]
  },
  {
   "cell_type": "markdown",
   "metadata": {},
   "source": [
    "其中，N是可能的状态数，M是可能的观测数。"
   ]
  },
  {
   "cell_type": "markdown",
   "metadata": {},
   "source": [
    "I是长度为T的状态序列，O是对应的观测序列。"
   ]
  },
  {
   "attachments": {
    "image.png": {
     "image/png": "[encoded data removed]"
    }
   },
   "cell_type": "markdown",
   "metadata": {},
   "source": [
    "![image.png](attachment:image.png)"
   ]
  },
  {
   "attachments": {
    "image.png": {
     "image/png": "[encoded data removed]"
    }
   },
   "cell_type": "markdown",
   "metadata": {},
   "source": [
    "![image.png](attachment:image.png)"
   ]
  },
  {
   "attachments": {
    "image.png": {
     "image/png": "[encoded data removed]"
    }
   },
   "cell_type": "markdown",
   "metadata": {},
   "source": [
    "A是状态转移概率矩阵：![image.png](attachment:image.png)"
   ]
  },
  {
   "attachments": {
    "image.png": {
     "image/png": "[encoded data removed]"
    }
   },
   "cell_type": "markdown",
   "metadata": {},
   "source": [
    "其中![image.png](attachment:image.png)"
   ]
  },
  {
   "cell_type": "markdown",
   "metadata": {},
   "source": [
    "是在时刻t处于状态qi的条件下在时刻t+1转移到状态qj的概率。"
   ]
  },
  {
   "attachments": {
    "image.png": {
     "image/png": "[encoded data removed]"
    }
   },
   "cell_type": "markdown",
   "metadata": {},
   "source": [
    "B是观测概率矩阵：![image.png](attachment:image.png)"
   ]
  },
  {
   "attachments": {
    "image.png": {
     "image/png": "[encoded data removed]"
    }
   },
   "cell_type": "markdown",
   "metadata": {},
   "source": [
    "其中![image.png](attachment:image.png)"
   ]
  },
  {
   "attachments": {
    "image.png": {
     "image/png": "[encoded data removed]"
    }
   },
   "cell_type": "markdown",
   "metadata": {},
   "source": [
    "是在时刻t处于状态qj的条件下生成观测vk的概率\n",
    "\n",
    "π是初始状态概率向量：![image.png](attachment:image.png)"
   ]
  },
  {
   "attachments": {
    "image.png": {
     "image/png": "[encoded data removed]"
    }
   },
   "cell_type": "markdown",
   "metadata": {},
   "source": [
    "其中![image.png](attachment:image.png)"
   ]
  },
  {
   "cell_type": "markdown",
   "metadata": {},
   "source": [
    "是时刻t=1处于状态qi的概率\n",
    "\n",
    "隐马尔可夫模型由初始状态概率向量π、状态转移概率矩阵A和观测概率矩阵B决定。π和A决定状态序列，B决定观测序列。因此，隐马尔可夫模型λ可以用三元符号表示，即\n",
    "\n",
    "                            λ=(A,B,π)\n",
    "                       \n",
    "A,B,π称为隐马尔可夫模型的三要素。"
   ]
  },
  {
   "cell_type": "code",
   "execution_count": 1,
   "metadata": {},
   "outputs": [],
   "source": [
    "import numpy as np"
   ]
  },
  {
   "cell_type": "code",
   "execution_count": 116,
   "metadata": {},
   "outputs": [],
   "source": [
    "class hiddenMarkovModel:\n",
    "    def __init__(self):\n",
    "        self.alphas=[]\n",
    "        self.betas=[]\n",
    "        self.I=[]\n",
    "        self.psises=[]\n",
    "        self.A=None\n",
    "        self.B=None\n",
    "        self.PI=None\n",
    "        self.e=1e-5\n",
    "        \n",
    "\n",
    "    def forward(self,Q,V,A,B,PI,T,O):\n",
    "        #Q状态集合，V观测集合，A状态转移概率矩阵，B观测概率矩阵，PI初始状态概率向量，T轮数，O观测序列\n",
    "        N=len(Q)\n",
    "        alpha=np.zeros((N,1))\n",
    "        for t in range(T):\n",
    "            index = V.index(O[t])\n",
    "            if t==0:\n",
    "                alpha=np.multiply(B[:,index],PI)\n",
    "            else:\n",
    "                alpha=np.multiply(alpha.T.dot(A).T,B[:,index])\n",
    "\n",
    "            self.alphas.append(alpha)\n",
    "\n",
    "            print(\"iter {}, alpha:\\n{}\".format(t+1,alpha))\n",
    "\n",
    "        P=np.sum(alpha)\n",
    "\n",
    "        print(\"P(O|λ)=\",P)\n",
    "        print(\"forward algorithm complete!\")\n",
    "\n",
    "\n",
    "    def backward(self,Q,V,A,B,PI,T,O):\n",
    "        # Q状态集合，V观测集合，A状态转移概率矩阵，B观测概率矩阵，PI初始状态概率向量，T轮数，O观测序列\n",
    "        N = len(Q)\n",
    "        beta = np.ones((N, 1))\n",
    "        self.betas.append(beta)\n",
    "        for t in reversed(range(T-1)):\n",
    "            index = V.index(O[t+1])\n",
    "            tmp=np.multiply(B[:,index],beta)\n",
    "            beta=A.dot(tmp)\n",
    "            self.betas.insert(0,beta)\n",
    "            print(\"iter {}, beta:\\n{}\".format(t + 1, beta))\n",
    "\n",
    "        P=beta.T.dot(np.multiply(B[:,V.index(O[0])],PI))[0,0]\n",
    "\n",
    "        print(\"P(O|λ)=\", P)\n",
    "        print(\"backward algorithm complete!\")\n",
    "\n",
    "\n",
    "    def viterbi(self,Q,V,A,B,PI,T,O):\n",
    "        N=len(Q)\n",
    "        delta=np.zeros((N,1))\n",
    "        for t in range(T):\n",
    "            index = V.index(O[t])\n",
    "            if t==0:  #初始化\n",
    "                delta=np.multiply(B[:,index],PI)\n",
    "                psis = np.zeros((N, 1))\n",
    "            else:\n",
    "                tmp=np.multiply(delta,A)\n",
    "                delta=np.multiply(np.max(tmp,axis=0).T,B[:,index])\n",
    "                psis=np.argmax(tmp,axis=0).T+1\n",
    "            self.psises.append(psis)\n",
    "            print(\"iter {}, delta:\\n{}\\npsis:\\n{}\".format(t + 1,delta ,psis))\n",
    "\n",
    "        P=np.max(delta)\n",
    "        i=np.argmax(delta)+1\n",
    "        self.I.append(i)\n",
    "        for t in reversed(range(T-1)):\n",
    "            i=self.psises[t+1][i-1,0]\n",
    "            self.I.insert(0,i)\n",
    "        print(\"I=({})\".format(self.I))\n",
    "        print(\"viterbi algorithm complete!\")\n",
    "        \n",
    "        \n",
    "    def approximate(self,T):  #需要先运行前向后向算法计算出α和β\n",
    "        I=[]\n",
    "        for t in range(T):\n",
    "            gamma=np.multiply(self.alphas[t],self.betas[t])/self.alphas[t].T.dot(self.betas[t])\n",
    "            i=np.argmax(gamma)+1\n",
    "            I.append(i)\n",
    "        print(\"I=({})\".format(I))\n",
    "        print(\"approximate algorithm complete!\")\n",
    "        \n",
    "        \n",
    "    def BaumWelch(self,Q,V,A,B,PI,T,O):\n",
    "        self.A=A\n",
    "        self.B=B\n",
    "        self.PI=PI\n",
    "        while True:\n",
    "            self.forward(Q,V,A,B,PI,T,O)\n",
    "            self.backward(Q,V,A,B,PI,T,O)\n",
    "            gamma=sum([np.multiply(self.alphas[t],self.betas[t])/self.alphas[t].T.dot(self.betas[t]) for t in range(T-1)])\n",
    "            epsilons=self.calcEpsilon(A,B,O,T)\n",
    "            A=np.divide(epsilons,gamma)\n",
    "            m,n=B.shape\n",
    "            for i in range(m):\n",
    "                for j in range(n):\n",
    "                    B_denominator=sum([self.alphas[t][j]*self.betas[t][j]/self.alphas[t].T.dot(self.betas[t]) for t in range(T)])\n",
    "                    B_numerator=sum([self.alphas[t][j]*self.betas[t][j]/self.alphas[t].T.dot(self.betas[t]) for t in range(T) if O[t]==V[j]])\n",
    "                    B[i,j]=B_numerator/B_denominator\n",
    "            \n",
    "            PI=np.multiply(self.alphas[0],self.betas[0])/self.alphas[0].T.dot(self.betas[0])\n",
    "            if np.linalg.norm(PI-self.PI)<self.e or np.linalg.norm(A-self.A)<self.e or np.linalg.norm(B-self.B)<self.e :\n",
    "                break\n",
    "            self.A=A\n",
    "            self.B=B\n",
    "            self.PI=PI\n",
    "        \n",
    "        print(\"π:\",PI)\n",
    "        print(\"Baum-Welch algorithm complete!\")\n",
    "            \n",
    "\n",
    "\n",
    "\n",
    "    def calcEpsilon(self,A,B,O,T):\n",
    "        epsilons=0\n",
    "        for t in range(T-1):\n",
    "            index=V.index(O[t+1])\n",
    "            tmpA=np.multiply(self.alphas[t],A)\n",
    "            tmpB=np.multiply(B[:,index],self.betas[t+1])\n",
    "            epsilon=np.multiply(tmpA,tmpB.T)/np.sum(tmpA.dot(tmpB))\n",
    "            epsilons+=epsilon\n",
    "        return epsilons\n",
    "\n"
   ]
  },
  {
   "cell_type": "code",
   "execution_count": 117,
   "metadata": {},
   "outputs": [
    {
     "name": "stdout",
     "output_type": "stream",
     "text": [
      "iter 1, alpha:\n",
      "[[0.1 ]\n",
      " [0.16]\n",
      " [0.28]]\n",
      "iter 2, alpha:\n",
      "[[0.077 ]\n",
      " [0.1104]\n",
      " [0.0606]]\n",
      "iter 3, alpha:\n",
      "[[0.04187 ]\n",
      " [0.035512]\n",
      " [0.052836]]\n",
      "P(O|λ)= 0.130218\n",
      "forward algorithm complete!\n"
     ]
    }
   ],
   "source": [
    "hmm=hiddenMarkovModel()\n",
    "Q=[1,2,3]\n",
    "V=[u'红',u'白']\n",
    "A=np.mat([[0.5,0.2,0.3],[0.3,0.5,0.2],[0.2,0.3,0.5]])\n",
    "B=np.mat([[0.5,0.5],[0.4,0.6],[0.7,0.3]])\n",
    "PI=np.mat([[0.2],[0.4],[0.4]])\n",
    "T=3\n",
    "O=[u'红',u'白',u'红']\n",
    "hmm.forward(Q,V,A,B,PI,T,O)"
   ]
  },
  {
   "cell_type": "code",
   "execution_count": 118,
   "metadata": {},
   "outputs": [
    {
     "name": "stdout",
     "output_type": "stream",
     "text": [
      "iter 2, beta:\n",
      "[[0.54]\n",
      " [0.49]\n",
      " [0.57]]\n",
      "iter 1, beta:\n",
      "[[0.2451]\n",
      " [0.2622]\n",
      " [0.2277]]\n",
      "P(O|λ)= 0.130218\n",
      "backward algorithm complete!\n"
     ]
    }
   ],
   "source": [
    "hmm.backward(Q,V,A,B,PI,T,O)"
   ]
  },
  {
   "cell_type": "code",
   "execution_count": 119,
   "metadata": {},
   "outputs": [
    {
     "name": "stdout",
     "output_type": "stream",
     "text": [
      "iter 1, delta:\n",
      "[[0.1 ]\n",
      " [0.16]\n",
      " [0.28]]\n",
      "psis:\n",
      "[[0.]\n",
      " [0.]\n",
      " [0.]]\n",
      "iter 2, delta:\n",
      "[[0.028 ]\n",
      " [0.0504]\n",
      " [0.042 ]]\n",
      "psis:\n",
      "[[3]\n",
      " [3]\n",
      " [3]]\n",
      "iter 3, delta:\n",
      "[[0.00756]\n",
      " [0.01008]\n",
      " [0.0147 ]]\n",
      "psis:\n",
      "[[2]\n",
      " [2]\n",
      " [3]]\n",
      "I=([3, 3, 3])\n",
      "viterbi algorithm complete!\n",
      "I=([3, 2, 3])\n",
      "approximate algorithm complete!\n"
     ]
    }
   ],
   "source": [
    "hmm.viterbi(Q,V,A,B,PI,T,O)\n",
    "hmm.approximate(T)"
   ]
  },
  {
   "cell_type": "code",
   "execution_count": 120,
   "metadata": {},
   "outputs": [
    {
     "name": "stdout",
     "output_type": "stream",
     "text": [
      "iter 1, alpha:\n",
      "[[0.1 ]\n",
      " [0.16]\n",
      " [0.28]]\n",
      "iter 2, alpha:\n",
      "[[0.077 ]\n",
      " [0.1104]\n",
      " [0.0606]]\n",
      "iter 3, alpha:\n",
      "[[0.04187 ]\n",
      " [0.035512]\n",
      " [0.052836]]\n",
      "P(O|λ)= 0.130218\n",
      "forward algorithm complete!\n",
      "iter 2, beta:\n",
      "[[0.54]\n",
      " [0.49]\n",
      " [0.57]]\n",
      "iter 1, beta:\n",
      "[[0.2451]\n",
      " [0.2622]\n",
      " [0.2277]]\n",
      "P(O|λ)= 0.130218\n",
      "backward algorithm complete!\n",
      "π: [[0.18822283]\n",
      " [0.32216744]\n",
      " [0.48960973]]\n",
      "Baum-Welch algorithm complete!\n"
     ]
    }
   ],
   "source": [
    "hmm.BaumWelch(Q,V,A,B,PI,T,O)"
   ]
  },
  {
   "cell_type": "markdown",
   "metadata": {},
   "source": [
    "# 习题10.1"
   ]
  },
  {
   "cell_type": "code",
   "execution_count": 90,
   "metadata": {},
   "outputs": [
    {
     "name": "stdout",
     "output_type": "stream",
     "text": [
      "iter 3, beta:\n",
      "[[0.46]\n",
      " [0.51]\n",
      " [0.43]]\n",
      "iter 2, beta:\n",
      "[[0.2461]\n",
      " [0.2312]\n",
      " [0.2577]]\n",
      "iter 1, beta:\n",
      "[[0.112462]\n",
      " [0.121737]\n",
      " [0.104881]]\n",
      "P(O|λ)= 0.06009079999999999\n",
      "backward algorithm complete!\n"
     ]
    }
   ],
   "source": [
    "Q=[1,2,3]\n",
    "V=[u'红',u'白']\n",
    "A=np.mat([[0.5,0.2,0.3],[0.3,0.5,0.2],[0.2,0.3,0.5]])\n",
    "B=np.mat([[0.5,0.5],[0.4,0.6],[0.7,0.3]])\n",
    "PI=np.mat([[0.2],[0.4],[0.4]])\n",
    "T=4\n",
    "O=[u'红',u'白',u'红',u'白']\n",
    "h=hiddenMarkovModel()\n",
    "h.backward(Q,V,A,B,PI,T,O)"
   ]
  },
  {
   "cell_type": "markdown",
   "metadata": {},
   "source": [
    "# 习题10.2"
   ]
  },
  {
   "cell_type": "code",
   "execution_count": 91,
   "metadata": {},
   "outputs": [
    {
     "name": "stdout",
     "output_type": "stream",
     "text": [
      "iter 1, alpha:\n",
      "[[0.1 ]\n",
      " [0.12]\n",
      " [0.35]]\n",
      "iter 2, alpha:\n",
      "[[0.078 ]\n",
      " [0.084 ]\n",
      " [0.0822]]\n",
      "iter 3, alpha:\n",
      "[[0.04032 ]\n",
      " [0.026496]\n",
      " [0.068124]]\n",
      "iter 4, alpha:\n",
      "[[0.0208668 ]\n",
      " [0.01236192]\n",
      " [0.04361112]]\n",
      "iter 5, alpha:\n",
      "[[0.0114321 ]\n",
      " [0.01019392]\n",
      " [0.01109573]]\n",
      "iter 6, alpha:\n",
      "[[0.00549669]\n",
      " [0.00338373]\n",
      " [0.00928834]]\n",
      "iter 7, alpha:\n",
      "[[0.00281056]\n",
      " [0.00245952]\n",
      " [0.00253453]]\n",
      "iter 8, alpha:\n",
      "[[0.00132502]\n",
      " [0.00121063]\n",
      " [0.00094105]]\n",
      "P(O|λ)= 0.0034767094492823996\n",
      "forward algorithm complete!\n",
      "\n",
      "\n",
      "\n",
      "iter 7, beta:\n",
      "[[0.43]\n",
      " [0.51]\n",
      " [0.4 ]]\n",
      "iter 6, beta:\n",
      "[[0.1861]\n",
      " [0.2415]\n",
      " [0.1762]]\n",
      "iter 5, beta:\n",
      "[[0.105521]\n",
      " [0.100883]\n",
      " [0.111934]]\n",
      "iter 4, beta:\n",
      "[[0.04586531]\n",
      " [0.05280909]\n",
      " [0.04280618]]\n",
      "iter 3, beta:\n",
      "[[0.02556442]\n",
      " [0.02343448]\n",
      " [0.02678985]]\n",
      "iter 2, beta:\n",
      "[[0.01482964]\n",
      " [0.01227214]\n",
      " [0.01568294]]\n",
      "iter 1, beta:\n",
      "[[0.00632569]\n",
      " [0.00684706]\n",
      " [0.00577855]]\n",
      "P(O|λ)= 0.0034767094492824\n",
      "backward algorithm complete!\n"
     ]
    }
   ],
   "source": [
    "Q=[1,2,3]\n",
    "V=[u'红',u'白']\n",
    "A=np.mat([[0.5,0.1,0.4],[0.3,0.5,0.2],[0.2,0.2,0.6]])\n",
    "B=np.mat([[0.5,0.5],[0.4,0.6],[0.7,0.3]])\n",
    "PI=np.mat([[0.2],[0.3],[0.5]])\n",
    "T=8\n",
    "O=[u'红',u'白',u'红',u'红',u'白',u'红',u'白',u'白']\n",
    "h.forward(Q,V,A,B,PI,T,O)\n",
    "print(\"\\n\\n\")\n",
    "h.backward(Q,V,A,B,PI,T,O)\n"
   ]
  },
  {
   "attachments": {
    "image.png": {
     "image/png": "[encoded data removed]"
    }
   },
   "cell_type": "markdown",
   "metadata": {},
   "source": [
    "给定模型λ和观测O，在时刻t处于状态qi的概率为![image.png](attachment:image.png)"
   ]
  },
  {
   "attachments": {
    "image.png": {
     "image/png": "[encoded data removed]"
    }
   },
   "cell_type": "markdown",
   "metadata": {},
   "source": [
    "可以得到![image.png](attachment:image.png)"
   ]
  },
  {
   "attachments": {
    "image.png": {
     "image/png": "[encoded data removed]"
    }
   },
   "cell_type": "markdown",
   "metadata": {},
   "source": [
    "因此![image.png](attachment:image.png)"
   ]
  },
  {
   "cell_type": "code",
   "execution_count": 84,
   "metadata": {},
   "outputs": [
    {
     "name": "stdout",
     "output_type": "stream",
     "text": [
      "P(i4=q3|O,λ)= 0.5369518160647323\n"
     ]
    }
   ],
   "source": [
    "P=h.alphas[3][2]*h.betas[3][2]/h.alphas[3].T.dot(h.betas[3])\n",
    "print(\"P(i4=q3|O,λ)=\",P[0,0])"
   ]
  },
  {
   "cell_type": "markdown",
   "metadata": {},
   "source": [
    "# 习题10.3"
   ]
  },
  {
   "cell_type": "code",
   "execution_count": 85,
   "metadata": {},
   "outputs": [
    {
     "name": "stdout",
     "output_type": "stream",
     "text": [
      "iter 1, delta:\n",
      "[[0.1 ]\n",
      " [0.16]\n",
      " [0.28]]\n",
      "psis:\n",
      "[[0.]\n",
      " [0.]\n",
      " [0.]]\n",
      "iter 2, delta:\n",
      "[[0.028 ]\n",
      " [0.0504]\n",
      " [0.042 ]]\n",
      "psis:\n",
      "[[3]\n",
      " [3]\n",
      " [3]]\n",
      "iter 3, delta:\n",
      "[[0.00756]\n",
      " [0.01008]\n",
      " [0.0147 ]]\n",
      "psis:\n",
      "[[2]\n",
      " [2]\n",
      " [3]]\n",
      "iter 4, delta:\n",
      "[[0.00189 ]\n",
      " [0.003024]\n",
      " [0.002205]]\n",
      "psis:\n",
      "[[1]\n",
      " [2]\n",
      " [3]]\n",
      "I=([3, 2, 2, 2])\n",
      "viterbi algorithm complete!\n"
     ]
    }
   ],
   "source": [
    "Q=[1,2,3]\n",
    "V=[u'红',u'白']\n",
    "A=np.mat([[0.5,0.2,0.3],[0.3,0.5,0.2],[0.2,0.3,0.5]])\n",
    "B=np.mat([[0.5,0.5],[0.4,0.6],[0.7,0.3]])\n",
    "PI=np.mat([[0.2],[0.4],[0.4]])\n",
    "T=4\n",
    "O=[u'红',u'白',u'红',u'白']\n",
    "h.viterbi(Q,V,A,B,PI,T,O)"
   ]
  },
  {
   "cell_type": "code",
   "execution_count": null,
   "metadata": {},
   "outputs": [],
   "source": []
  }
 ],
 "metadata": {
  "kernelspec": {
   "display_name": "Python 3",
   "language": "python",
   "name": "python3"
  },
  "language_info": {
   "codemirror_mode": {
    "name": "ipython",
    "version": 3
   },
   "file_extension": ".py",
   "mimetype": "text/x-python",
   "name": "python",
   "nbconvert_exporter": "python",
   "pygments_lexer": "ipython3",
   "version": "3.6.3"
  }
 },
 "nbformat": 4,
 "nbformat_minor": 2
}
