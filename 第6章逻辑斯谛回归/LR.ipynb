{
 "cells": [
  {
   "cell_type": "markdown",
   "metadata": {},
   "source": [
    "# 二项逻辑斯谛回归模型"
   ]
  },
  {
   "attachments": {},
   "cell_type": "markdown",
   "metadata": {},
   "source": [
    "二项逻辑斯谛回归模型是如下的条件概率分布：\n",
    "\n",
    "<img src='./pics/formula1.png'></img>\n",
    "                \n",
    "逻辑斯谛回归比较两个条件概率值的大小，将实例x分到概率值较大的那一类。"
   ]
  },
  {
   "cell_type": "markdown",
   "metadata": {},
   "source": [
    "# 模型参数估计"
   ]
  },
  {
   "attachments": {},
   "cell_type": "markdown",
   "metadata": {},
   "source": [
    "设P(Y=1|x)=p(xi),P(Y=0|x)=1-p(xi)\n",
    "对数似然函数为\n",
    "<img src='./pics/formula2.png'></img>\n",
    "对L(w)求极大值，得到w的估计值，即可得到模型。"
   ]
  },
  {
   "cell_type": "markdown",
   "metadata": {},
   "source": [
    "定义损失函数loss=-L(w)，对L(w)求极大值，就是对loss求极小值，逻辑斯谛回归中通常采用的方法是梯度下降法、牛顿法及拟牛顿法。"
   ]
  },
  {
   "cell_type": "markdown",
   "metadata": {},
   "source": [
    "梯度下降法，牛顿法，拟牛顿法介绍\n",
    "\n",
    "https://www.cnblogs.com/shixiangwan/p/7532830.html\n",
    "https://blog.csdn.net/qq_36330643/article/details/78003952\n",
    "https://blog.csdn.net/baimafujinji/article/details/51179381"
   ]
  },
  {
   "cell_type": "code",
   "execution_count": 1,
   "metadata": {},
   "outputs": [],
   "source": [
    "#数据加载\n",
    "import numpy as np\n",
    "import pandas as pd\n",
    "import matplotlib.pyplot as plt\n",
    "%matplotlib inline\n",
    "\n",
    "from sklearn.datasets import load_iris\n",
    "from sklearn.model_selection import train_test_split"
   ]
  },
  {
   "cell_type": "code",
   "execution_count": 2,
   "metadata": {},
   "outputs": [],
   "source": [
    "def create_data():\n",
    "    iris = load_iris()\n",
    "    df = pd.DataFrame(iris.data, columns=iris.feature_names)\n",
    "    df['label'] = iris.target\n",
    "    df.columns = ['sepal length', 'sepal width', 'petal length', 'petal width', 'label']\n",
    "    data = np.array(df.iloc[:100, [0,1,-1]])\n",
    "    # print(data)\n",
    "    return data[:,:2], data[:,-1]"
   ]
  },
  {
   "cell_type": "code",
   "execution_count": 3,
   "metadata": {},
   "outputs": [],
   "source": [
    "X, y = create_data()\n",
    "X_train, X_test, y_train, y_test = train_test_split(X,y,\n",
    "test_size=0.3)"
   ]
  },
  {
   "cell_type": "code",
   "execution_count": 4,
   "metadata": {},
   "outputs": [
    {
     "data": {
      "image/png": "[encoded data removed]",
      "text/plain": [
       "<matplotlib.figure.Figure at 0x14daaded2e8>"
      ]
     },
     "metadata": {},
     "output_type": "display_data"
    }
   ],
   "source": [
    "plt.scatter(X[:50,0],X[:50,1], label='0')\n",
    "plt.scatter(X[50:,0],X[50:,1], label='1')\n",
    "plt.legend()\n",
    "plt.show()\n"
   ]
  },
  {
   "cell_type": "code",
   "execution_count": 23,
   "metadata": {},
   "outputs": [],
   "source": [
    "class logisticRegression():\n",
    "    def __init__(self, optimizer='gradientDescent'):\n",
    "        self.optimizer = optimizer\n",
    "\n",
    "\n",
    "    def gradientDescent(self,X, ytrain, w, iterations=1500,\n",
    "                        learing_rate=0.1):\n",
    "        m = X.shape[0]\n",
    "        J_history=np.zeros((iterations,1))\n",
    "        for iter in range(iterations):\n",
    "            h = self.sigmoid(X.dot(w))\n",
    "            J = self.computeCost(h, ytrain)\n",
    "            J_history[iter]=J\n",
    "            w = w - learing_rate * (X.T.dot(h - ytrain.T))/ m\n",
    "        return J_history, w\n",
    "\n",
    "\n",
    "    def Newton(self,X, ytrain,w,delta,iterations=60,\n",
    "               learing_rate=0.1):\n",
    "        m,n=X.shape\n",
    "        J_history = np.zeros((iterations, 1))\n",
    "        for k in range(iterations):\n",
    "            hk = self.sigmoid(X.dot(w))\n",
    "            J = self.computeCost(hk, ytrain)\n",
    "            J_history[k] = J\n",
    "            jacobian=(X.T.dot(hk - ytrain.T))\n",
    "            if np.linalg.norm(jacobian)<delta:\n",
    "                return J_history,w\n",
    "            Hessian=self.getHessian(X,w)\n",
    "            #这里给牛顿法加了学习率，不然w会变得很大，不做归一化且\n",
    "            #不加学习率如何得到和梯度下降类似的结果目前还不太清楚，\n",
    "            #对牛顿法处于一知半解的状态。\n",
    "            w=w-learing_rate*np.linalg.solve(Hessian,jacobian)\n",
    "        return J_history,w\n",
    "\n",
    "\n",
    "\n",
    "    def getHessian(self,X,w):\n",
    "        m,n=X.shape\n",
    "        A=np.zeros((m,m))\n",
    "        for i in range(m):\n",
    "            h=self.sigmoid(X[i].dot(w))\n",
    "            A[i,i]=h*(1-h)\n",
    "        H=X.T.dot(A).dot(X)\n",
    "        return H\n",
    "\n",
    "\n",
    "    def train(self,Xtrain, ytrain, weights=None):\n",
    "        Xtrain = np.mat(Xtrain)\n",
    "        ytrain = np.mat(ytrain)\n",
    "        m, n = Xtrain.shape\n",
    "        w = np.zeros((n + 1, 1))\n",
    "        if weights != None:\n",
    "            w = weights\n",
    "        X0 = np.ones((m, 1))\n",
    "        X = np.column_stack((X0, Xtrain))\n",
    "        if self.optimizer == 'gradientDescent':\n",
    "            J_history, bestW = self.gradientDescent(X,ytrain, w)\n",
    "            self.weights=bestW\n",
    "            self.draw_J_history(J_history)\n",
    "            \n",
    "        elif self.optimizer=='Newton':\n",
    "            delta=1e-5\n",
    "            J_history,bestW=self.Newton(X,ytrain,w,delta)\n",
    "            self.draw_J_history(J_history)\n",
    "            self.weights=bestW\n",
    "        \n",
    "        print(\"fit complete!\")\n",
    "            \n",
    "\n",
    "\n",
    "    def score(self, Xtest, ytest):\n",
    "        m = Xtest.shape[0]\n",
    "        X0 = np.ones((m, 1))\n",
    "        X = np.column_stack((X0, Xtest))\n",
    "        h = self.sigmoid(X.dot(self.weights)) > 0.5\n",
    "        y = np.mat(ytest).T\n",
    "        accuracy = np.sum(h == y)\n",
    "        print(\"accuracy is: \", accuracy / m * 100)\n",
    "\n",
    "\n",
    "\n",
    "    def computeCost(self,h, y):\n",
    "        m = h.shape[0]\n",
    "        return -(1 / m) * (y.dot(np.log(h)) + (1 - y).dot(np.log(1 - h)))\n",
    "\n",
    "\n",
    "\n",
    "    def sigmoid(self,z):\n",
    "        return 1 / (1 + np.exp(-z))\n",
    "\n",
    "\n",
    "\n",
    "    def draw_J_history(self,J_history):\n",
    "        plt.plot(J_history)\n",
    "        plt.xlabel('iter')\n",
    "        plt.ylabel('cost')\n",
    "        plt.show()\n",
    "        \n",
    "\n",
    "    def drawFitLine(self, X):\n",
    "        x_points = range(4, 8)\n",
    "        y_ = -(self.weights[1, 0] * x_points +\n",
    "               self.weights[0, 0]) / self.weights[2, 0]\n",
    "        plt.plot(x_points, y_)\n",
    "        plt.scatter(X[:50, 0], X[:50, 1], label='0')\n",
    "        plt.scatter(X[50:, 0], X[50:, 1], label='1')\n",
    "        plt.legend()\n",
    "        plt.show()\n",
    "        \n",
    "         \n"
   ]
  },
  {
   "cell_type": "markdown",
   "metadata": {},
   "source": [
    "# 梯度下降法（默认）"
   ]
  },
  {
   "cell_type": "code",
   "execution_count": 24,
   "metadata": {},
   "outputs": [
    {
     "data": {
      "image/png": "[encoded data removed]",
      "text/plain": [
       "<matplotlib.figure.Figure at 0x14dad37ef60>"
      ]
     },
     "metadata": {},
     "output_type": "display_data"
    },
    {
     "name": "stdout",
     "output_type": "stream",
     "text": [
      "fit complete!\n"
     ]
    },
    {
     "data": {
      "image/png": "[encoded data removed]",
      "text/plain": [
       "<matplotlib.figure.Figure at 0x14dad325cc0>"
      ]
     },
     "metadata": {},
     "output_type": "display_data"
    }
   ],
   "source": [
    "myLR=logisticRegression()\n",
    "myLR.train(X_train,y_train)\n",
    "myLR.drawFitLine(X)"
   ]
  },
  {
   "cell_type": "code",
   "execution_count": 25,
   "metadata": {},
   "outputs": [
    {
     "name": "stdout",
     "output_type": "stream",
     "text": [
      "accuracy is:  100.0\n"
     ]
    }
   ],
   "source": [
    "myLR.score(X_test,y_test)"
   ]
  },
  {
   "cell_type": "markdown",
   "metadata": {},
   "source": [
    "# 牛顿法"
   ]
  },
  {
   "cell_type": "code",
   "execution_count": 26,
   "metadata": {},
   "outputs": [
    {
     "data": {
      "image/png": "[encoded data removed]",
      "text/plain": [
       "<matplotlib.figure.Figure at 0x14dad37ed68>"
      ]
     },
     "metadata": {},
     "output_type": "display_data"
    },
    {
     "name": "stdout",
     "output_type": "stream",
     "text": [
      "fit complete!\n"
     ]
    },
    {
     "data": {
      "image/png": "[encoded data removed]",
      "text/plain": [
       "<matplotlib.figure.Figure at 0x14dad24e208>"
      ]
     },
     "metadata": {},
     "output_type": "display_data"
    }
   ],
   "source": [
    "newtonLR=logisticRegression(optimizer='Newton')\n",
    "newtonLR.train(X_train,y_train)\n",
    "newtonLR.drawFitLine(X)"
   ]
  },
  {
   "cell_type": "code",
   "execution_count": 27,
   "metadata": {},
   "outputs": [
    {
     "name": "stdout",
     "output_type": "stream",
     "text": [
      "accuracy is:  100.0\n"
     ]
    }
   ],
   "source": [
    "newtonLR.score(X_test,y_test)"
   ]
  }
 ],
 "metadata": {
  "kernelspec": {
   "display_name": "Python 3",
   "language": "python",
   "name": "python3"
  },
  "language_info": {
   "codemirror_mode": {
    "name": "ipython",
    "version": 3
   },
   "file_extension": ".py",
   "mimetype": "text/x-python",
   "name": "python",
   "nbconvert_exporter": "python",
   "pygments_lexer": "ipython3",
   "version": "3.6.7"
  }
 },
 "nbformat": 4,
 "nbformat_minor": 2
}
