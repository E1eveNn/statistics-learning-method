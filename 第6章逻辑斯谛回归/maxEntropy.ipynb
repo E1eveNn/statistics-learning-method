{
 "cells": [
  {
   "cell_type": "code",
   "execution_count": 39,
   "metadata": {},
   "outputs": [],
   "source": [
    "#数据加载\n",
    "import numpy as np\n",
    "import pandas as pd\n",
    "import matplotlib.pyplot as plt\n",
    "import math\n",
    "%matplotlib inline\n",
    "\n",
    "from sklearn.datasets import load_iris\n",
    "from sklearn.model_selection import train_test_split"
   ]
  },
  {
   "cell_type": "code",
   "execution_count": 33,
   "metadata": {},
   "outputs": [],
   "source": [
    "def create_data():\n",
    "    iris = load_iris()\n",
    "    df = pd.DataFrame(iris.data, columns=iris.feature_names)\n",
    "    df['label'] = iris.target\n",
    "    df.columns = ['sepal length', 'sepal width', 'petal length', 'petal width', 'label']\n",
    "    data = np.array(df.iloc[:100, [0,1,-1]])\n",
    "    return data[:,:2], data[:,-1]"
   ]
  },
  {
   "cell_type": "code",
   "execution_count": 34,
   "metadata": {},
   "outputs": [],
   "source": [
    "X, y = create_data()\n",
    "X_train, X_test, y_train, y_test = train_test_split(X,y,\n",
    "test_size=0.3)"
   ]
  },
  {
   "cell_type": "code",
   "execution_count": 35,
   "metadata": {},
   "outputs": [
    {
     "data": {
      "image/png": "[encoded data removed]",
      "text/plain": [
       "<matplotlib.figure.Figure at 0x1d8e3c812e8>"
      ]
     },
     "metadata": {},
     "output_type": "display_data"
    }
   ],
   "source": [
    "plt.scatter(X[:50,0],X[:50,1], label='0')\n",
    "plt.scatter(X[50:,0],X[50:,1], label='1')\n",
    "plt.legend()\n",
    "plt.show()"
   ]
  },
  {
   "cell_type": "code",
   "execution_count": 44,
   "metadata": {},
   "outputs": [],
   "source": [
    "class maxEntropyModel():\n",
    "    def __init__(self):\n",
    "        self.M=1\n",
    "        self.N=0 #样本数\n",
    "        self.ySet=set()\n",
    "        self.f={}\n",
    "        self.xCount={}\n",
    "        self.Ep_=None\n",
    "        self.Ep=None\n",
    "        self.w=None\n",
    "\n",
    "\n",
    "    def fit(self,Xtrain,ytrain):\n",
    "        self.initParams(Xtrain,ytrain)\n",
    "        while True:\n",
    "            for x in Xtrain:\n",
    "                self.calcEp(x)\n",
    "            delta = 1 / self.M * np.log(np.divide(self.Ep_, self.Ep))\n",
    "            newW=self.w+delta\n",
    "            if np.linalg.norm(newW-self.w)<1e-2:\n",
    "                break\n",
    "            self.w=newW\n",
    "        print(\"w:\",self.w)\n",
    "        print(\"fit complete!\")\n",
    "\n",
    "\n",
    "\n",
    "    def initParams(self,Xtrain,ytrain):\n",
    "        N=len(Xtrain)  #样本数\n",
    "        self.N=N\n",
    "\n",
    "        for i in range(N):\n",
    "            self.ySet.add(ytrain[i])\n",
    "            for x in Xtrain[i]:\n",
    "                if x not in self.xCount.keys():\n",
    "                    self.xCount[x]=1\n",
    "                else:\n",
    "                    self.xCount[x]+=1\n",
    "                if (x,ytrain[i]) not in self.f.keys():\n",
    "                    self.f[(x,ytrain[i])]=1\n",
    "                else:\n",
    "                    self.f[(x, ytrain[i])] += 1\n",
    "\n",
    "        M=len(self.f)\n",
    "        self.w=np.zeros((M,1))\n",
    "        self.M = M\n",
    "        self.Ep_=np.zeros((M,1))\n",
    "        self.Ep = np.zeros((M, 1))\n",
    "        for i,v in enumerate(self.f):\n",
    "            self.Ep_[i]=self.f[v]/N\n",
    "\n",
    "\n",
    "\n",
    "    def calcEp(self,feature):\n",
    "        for i,v in enumerate(self.f):\n",
    "            for f in feature:\n",
    "                probs=self.calcPy_x(f)\n",
    "                for prob,label in probs:\n",
    "                    if (f,label)==v:\n",
    "                        self.Ep[i]+=(self.xCount[f]/self.N)*prob\n",
    "\n",
    "\n",
    "\n",
    "    def calcPy_x(self,feature):  #计算P(y|x)\n",
    "        wgts=[(self.calcZw(feature,y),y) for y in self.ySet]\n",
    "        Zw=sum([wgt for wgt,y in wgts])\n",
    "        probs=[(wgt/Zw,y) for wgt,y in wgts]\n",
    "        return probs\n",
    "\n",
    "\n",
    "    def calcZw(self,feat,label):  #计算Zw\n",
    "        wgt=0\n",
    "        for i,v in enumerate(self.f):\n",
    "            if (feat,label)==v:\n",
    "                wgt+=self.w[i]\n",
    "        return math.exp(wgt)\n"
   ]
  },
  {
   "cell_type": "code",
   "execution_count": null,
   "metadata": {},
   "outputs": [],
   "source": [
    "ME=maxEntropyModel()\n",
    "ME.fit(X_train,y_train)"
   ]
  },
  {
   "cell_type": "code",
   "execution_count": null,
   "metadata": {},
   "outputs": [],
   "source": []
  }
 ],
 "metadata": {
  "kernelspec": {
   "display_name": "Python 3",
   "language": "python",
   "name": "python3"
  },
  "language_info": {
   "codemirror_mode": {
    "name": "ipython",
    "version": 3
   },
   "file_extension": ".py",
   "mimetype": "text/x-python",
   "name": "python",
   "nbconvert_exporter": "python",
   "pygments_lexer": "ipython3",
   "version": "3.6.7"
  }
 },
 "nbformat": 4,
 "nbformat_minor": 2
}
