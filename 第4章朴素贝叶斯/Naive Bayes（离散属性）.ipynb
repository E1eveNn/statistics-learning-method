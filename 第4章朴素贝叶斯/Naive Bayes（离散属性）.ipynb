{
 "cells": [
  {
   "cell_type": "markdown",
   "metadata": {},
   "source": [
    "# 朴素贝叶斯算法\n",
    "输入：训练数据T={(x1,y1),(x2,y2),...,(xn,yn)},Xij是第i个样本的第j个特征,ajl是第j个特征可\n",
    "能取得第l个值；实例x\n",
    "输出：实例x的分类\n",
    "（1）计算先验概率及条件概率\n",
    "             P(Y=ck)=sum(I(yi=ck))/N\n",
    "             P(Xj=ajl|Y=ck)=sum(I(xij=ajl,y=ck))/sum(I(yi=ck))\n",
    "（2）对于给定的实例x=(x1,x2,...,xn)，计算\n",
    "           P(Y=ck)mul(P(Xj=xj)|Y=ck)\n",
    "（3）确定实例x的类\n",
    "           y=argmaxP(Y=ck)mul(P(Xj=xj|Y=ck))\n"
   ]
  },
  {
   "cell_type": "markdown",
   "metadata": {},
   "source": [
    "# 本节采用的是计算离散属性的方法，但选用的是连续数据集！！！"
   ]
  },
  {
   "cell_type": "code",
   "execution_count": 54,
   "metadata": {},
   "outputs": [],
   "source": [
    "import numpy as np\n",
    "import pandas as pd\n",
    "import math\n",
    "import matplotlib.pyplot as plt\n",
    "%matplotlib inline\n",
    "\n",
    "from sklearn.datasets import load_iris\n",
    "from sklearn.model_selection import train_test_split\n",
    "\n",
    "def load_data():\n",
    "    iris = load_iris()\n",
    "    df = pd.DataFrame(iris.data, columns=iris.feature_names)\n",
    "    df['label'] = iris.target\n",
    "    plt.scatter(df[:50]['sepal length (cm)'], df[:50]['sepal width (cm)'])\n",
    "    plt.scatter(df[50:100]['sepal length (cm)'], df[50:100]['sepal width (cm)'])\n",
    "    plt.xlabel('sepal length')\n",
    "    plt.ylabel('sepal width')\n",
    "    plt.legend()\n",
    "    plt.show()\n",
    "    data = np.array(df.iloc[:100, [0, 1, -1]])\n",
    "    return  data[:,:-1], data[:,-1]"
   ]
  },
  {
   "cell_type": "code",
   "execution_count": 55,
   "metadata": {},
   "outputs": [
    {
     "data": {
      "image/png": "[encoded data removed]",
      "text/plain": [
       "<matplotlib.figure.Figure at 0x205a3ec2208>"
      ]
     },
     "metadata": {},
     "output_type": "display_data"
    }
   ],
   "source": [
    "X,y=load_data()\n",
    "X_train,X_test,y_train,y_test=train_test_split(X,y,test_size=0.3)\n"
   ]
  },
  {
   "cell_type": "markdown",
   "metadata": {},
   "source": [
    "# 应用极大似然估计的朴素贝叶斯，缺点是若测试样本有个属性值未在训练样本里出现过， 则所估计的概率值则会为0，使分类产生偏差"
   ]
  },
  {
   "cell_type": "code",
   "execution_count": 77,
   "metadata": {},
   "outputs": [],
   "source": [
    "class likelihoodBayesModel:\n",
    "    def __init__(self):\n",
    "        self.labelCount={}\n",
    "        self.trainNums=0\n",
    "        self.Xtrain=None\n",
    "        self.ytrain=None\n",
    "    \n",
    "    def fit(self,Xtrain,ytrain):\n",
    "        m,n=Xtrain.shape\n",
    "        self.Xtrain=Xtrain\n",
    "        self.labelCount=self.CountLabels(ytrain)\n",
    "        self.ytrain=np.mat(ytrain)\n",
    "        self.trainNums=m\n",
    "        print(\"fit complete!\")\n",
    "        \n",
    "    \n",
    "    def predict(self,Xtest):\n",
    "        predictLabels={}\n",
    "        #计算P(y=ck)\n",
    "        for label in self.labelCount.keys():\n",
    "            Py=int(self.labelCount[label])/self.trainNums\n",
    "            index=0  #属性序号\n",
    "            for attr in Xtest:   #遍历每个序号的属性\n",
    "                currentLabelIndexes=np.where(self.ytrain==label)[1]\n",
    "                currentLabelDatas=self.Xtrain[currentLabelIndexes]\n",
    "                currentAttrArray=np.where(currentLabelDatas[:,index]==attr)[0]\n",
    "                Py=Py*(len(currentAttrArray)/len(currentLabelDatas))\n",
    "                index+=1\n",
    "            \n",
    "            predictLabels[label]=Py\n",
    "        maxProbability=-math.inf\n",
    "        pLabel=0\n",
    "        for k,v in predictLabels.items():\n",
    "            if v>maxProbability:\n",
    "                maxProbability=v\n",
    "                pLabel=k\n",
    "        \n",
    "        return pLabel   \n",
    "    \n",
    "    def score(self,Xtest,ytest):\n",
    "        predictLabels=[]\n",
    "        for x in Xtest:\n",
    "            predictLabels.append(self.predict(x))\n",
    "        accuracy=np.sum(predictLabels==y_test)/len(predictLabels)\n",
    "        print(\"accuracy is : \",accuracy)\n",
    "    \n",
    "    \n",
    "        \n",
    "    def CountLabels(self,y):\n",
    "        labelCount={}\n",
    "        for label in y:\n",
    "            if label not in labelCount.keys():\n",
    "                labelCount[label]=0\n",
    "            else:\n",
    "                labelCount[label]+=1\n",
    "        return labelCount\n",
    "            "
   ]
  },
  {
   "cell_type": "code",
   "execution_count": 78,
   "metadata": {},
   "outputs": [
    {
     "name": "stdout",
     "output_type": "stream",
     "text": [
      "fit complete!\n",
      "accuracy is :  0.7\n"
     ]
    }
   ],
   "source": [
    "naiveBayes_likelihood=likelihoodBayesModel()\n",
    "naiveBayes_likelihood.fit(X_train,y_train)\n",
    "naiveBayes_likelihood.score(X_test,y_test)\n"
   ]
  },
  {
   "cell_type": "markdown",
   "metadata": {},
   "source": [
    "# 而采用贝叶斯估计的朴素贝叶斯，会为分母分子赋予一个lambda,当lambda=0时就是极大似然估计。常取lambda=1，这时称为拉普拉斯平滑"
   ]
  },
  {
   "cell_type": "code",
   "execution_count": 79,
   "metadata": {},
   "outputs": [],
   "source": [
    "class BayesEstimateModel:\n",
    "    def __init__(self,lambd=1):\n",
    "        self.labelCount={}\n",
    "        self.trainNums=0\n",
    "        self.Xtrain=None\n",
    "        self.ytrain=None\n",
    "        self.lambd=lambd\n",
    "    \n",
    "    def fit(self,Xtrain,ytrain):\n",
    "        m,n=Xtrain.shape\n",
    "        self.Xtrain=Xtrain\n",
    "        self.labelCount=self.CountLabels(ytrain)\n",
    "        self.ytrain=np.mat(ytrain)\n",
    "        self.trainNums=m\n",
    "        print(\"fit complete!\")\n",
    "        \n",
    "    \n",
    "    def predict(self,Xtest):\n",
    "        predictLabels={}\n",
    "        K=len(self.labelCount.keys())\n",
    "        #计算P(y=ck)\n",
    "        for label in self.labelCount.keys():\n",
    "            Py=(self.labelCount[label]+self.lambd)/(self.trainNums+K*self.lambd)\n",
    "            index=0  #属性序号\n",
    "            for attr in Xtest:   #遍历每个序号的属性\n",
    "                Sj=len(set(self.Xtrain[:,index]))\n",
    "                currentLabelIndexes=np.where(self.ytrain==label)[1]\n",
    "                currentLabelDatas=self.Xtrain[currentLabelIndexes]\n",
    "                currentAttrArray=np.where(currentLabelDatas[:,index]==attr)[0]\n",
    "                Pc=(len(currentAttrArray)+self.lambd)/(len(currentLabelDatas)+Sj*self.lambd)\n",
    "                Py=Py*Pc\n",
    "                index+=1\n",
    "            \n",
    "            predictLabels[label]=Py\n",
    "        maxProbability=-math.inf\n",
    "        pLabel=0\n",
    "        for k,v in predictLabels.items():\n",
    "            if v>maxProbability:\n",
    "                maxProbability=v\n",
    "                pLabel=k\n",
    "        \n",
    "        return pLabel   \n",
    "    \n",
    "    def score(self,Xtest,ytest):\n",
    "        predictLabels=[]\n",
    "        for x in Xtest:\n",
    "            predictLabels.append(self.predict(x))\n",
    "        accuracy=np.sum(predictLabels==y_test)/len(predictLabels)\n",
    "        print(\"accuracy is : \",accuracy)\n",
    "    \n",
    "    \n",
    "        \n",
    "    def CountLabels(self,y):\n",
    "        labelCount={}\n",
    "        for label in y:\n",
    "            if label not in labelCount.keys():\n",
    "                labelCount[label]=0\n",
    "            else:\n",
    "                labelCount[label]+=1\n",
    "        return labelCount\n",
    "            "
   ]
  },
  {
   "cell_type": "code",
   "execution_count": 80,
   "metadata": {},
   "outputs": [
    {
     "name": "stdout",
     "output_type": "stream",
     "text": [
      "fit complete!\n",
      "accuracy is :  0.8\n"
     ]
    }
   ],
   "source": [
    "naiveBayes_bayesEstimate=BayesEstimateModel()\n",
    "naiveBayes_bayesEstimate.fit(X_train,y_train)\n",
    "naiveBayes_bayesEstimate.score(X_test,y_test)"
   ]
  },
  {
   "cell_type": "markdown",
   "metadata": {},
   "source": [
    "# 上述模型估计条件概率P（X=xi|Y=ck）时采用的是计算离散属性的做法，即直接统计出现概率，而我们采用的数据集是连续属性，计算连续属性需考虑概率密度函数"
   ]
  },
  {
   "cell_type": "code",
   "execution_count": null,
   "metadata": {},
   "outputs": [],
   "source": []
  }
 ],
 "metadata": {
  "kernelspec": {
   "display_name": "Python 3",
   "language": "python",
   "name": "python3"
  },
  "language_info": {
   "codemirror_mode": {
    "name": "ipython",
    "version": 3
   },
   "file_extension": ".py",
   "mimetype": "text/x-python",
   "name": "python",
   "nbconvert_exporter": "python",
   "pygments_lexer": "ipython3",
   "version": "3.6.3"
  }
 },
 "nbformat": 4,
 "nbformat_minor": 2
}
