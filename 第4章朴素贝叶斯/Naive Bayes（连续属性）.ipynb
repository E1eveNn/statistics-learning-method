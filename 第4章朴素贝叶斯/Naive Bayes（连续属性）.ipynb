{
 "cells": [
  {
   "cell_type": "markdown",
   "metadata": {},
   "source": [
    "# 朴素贝叶斯算法"
   ]
  },
  {
   "attachments": {
    "formula1.png": {
     "image/png": "[encoded data removed]"
    }
   },
   "cell_type": "markdown",
   "metadata": {},
   "source": [
    "对于连续属性，我们应该这样计算\n",
    "![formula1.png](attachment:formula1.png)"
   ]
  },
  {
   "cell_type": "code",
   "execution_count": 2,
   "metadata": {},
   "outputs": [],
   "source": [
    "import numpy as np\n",
    "import pandas as pd\n",
    "import math\n",
    "import matplotlib.pyplot as plt\n",
    "%matplotlib inline\n",
    "\n",
    "from sklearn.datasets import load_iris\n",
    "from sklearn.model_selection import train_test_split\n",
    "\n",
    "def load_data():\n",
    "    iris = load_iris()\n",
    "    df = pd.DataFrame(iris.data, columns=iris.feature_names)\n",
    "    df['label'] = iris.target\n",
    "    plt.scatter(df[:50]['sepal length (cm)'], df[:50]['sepal width (cm)'])\n",
    "    plt.scatter(df[50:100]['sepal length (cm)'], df[50:100]['sepal width (cm)'])\n",
    "    plt.xlabel('sepal length')\n",
    "    plt.ylabel('sepal width')\n",
    "    plt.legend()\n",
    "    plt.show()\n",
    "    data = np.array(df.iloc[:100, [0, 1, -1]])\n",
    "    return  data[:,:-1], data[:,-1]"
   ]
  },
  {
   "cell_type": "code",
   "execution_count": 3,
   "metadata": {},
   "outputs": [
    {
     "data": {
      "image/png": "[encoded data removed]",
      "text/plain": [
       "<matplotlib.figure.Figure at 0x1a00feb8908>"
      ]
     },
     "metadata": {},
     "output_type": "display_data"
    }
   ],
   "source": [
    "X,y=load_data()\n",
    "X_train,X_test,y_train,y_test=train_test_split(X,y,test_size=0.3)"
   ]
  },
  {
   "cell_type": "code",
   "execution_count": 6,
   "metadata": {},
   "outputs": [],
   "source": [
    "class naiveBayesModel:\n",
    "    def __init__(self):\n",
    "        self.labelCount={}\n",
    "        self.trainNums=0\n",
    "        self.Xtrain=None\n",
    "        self.ytrain=None\n",
    "    \n",
    "    \n",
    "    def fit(self,Xtrain,ytrain):\n",
    "        m,n=Xtrain.shape\n",
    "        self.Xtrain=Xtrain\n",
    "        self.labelCount=self.CountLabels(ytrain)\n",
    "        self.ytrain=np.mat(ytrain)\n",
    "        self.trainNums=m\n",
    "        print(\"fit complete!\")\n",
    "        \n",
    "    \n",
    "    def predict(self,Xtest):\n",
    "        predictLabels={}\n",
    "        #计算P(y=ck)\n",
    "        for label in self.labelCount.keys():\n",
    "            Py=int(self.labelCount[label])/self.trainNums\n",
    "            index=0  #属性序号\n",
    "            for attr in Xtest:   #遍历每个序号的属性\n",
    "                currentLabelIndexes=np.where(self.ytrain==label)[1]\n",
    "                currentLabelDatas=self.Xtrain[currentLabelIndexes]\n",
    "                currentDatas=currentLabelDatas[:,index]\n",
    "                U,V=self.calcMeanAndVariance(currentDatas)\n",
    "                Pc=np.exp(-((attr-U)**2)/(2*V))/(np.sqrt(2*math.pi*V))\n",
    "                Py=Py*Pc\n",
    "                index+=1\n",
    "            \n",
    "            predictLabels[label]=Py\n",
    "        maxProbability=-math.inf\n",
    "        pLabel=0\n",
    "        for k,v in predictLabels.items():\n",
    "            if v>maxProbability:\n",
    "                maxProbability=v\n",
    "                pLabel=k\n",
    "        \n",
    "        return pLabel   \n",
    "    \n",
    "    def score(self,Xtest,ytest):\n",
    "        predictLabels=[]\n",
    "        for x in Xtest:\n",
    "            predictLabels.append(self.predict(x))\n",
    "        accuracy=np.sum(predictLabels==y_test)/len(predictLabels)\n",
    "        print(\"accuracy is : \",accuracy)\n",
    "   \n",
    "\n",
    "    \n",
    "    def calcMeanAndVariance(self,data):\n",
    "        U=np.mean(data)   #均值\n",
    "        V=np.var(data,ddof=1)    #方差\n",
    "        return U,V\n",
    "        \n",
    "        \n",
    "        \n",
    "    def CountLabels(self,y):\n",
    "        labelCount={}\n",
    "        for label in y:\n",
    "            if label not in labelCount.keys():\n",
    "                labelCount[label]=0\n",
    "            else:\n",
    "                labelCount[label]+=1\n",
    "        return labelCount"
   ]
  },
  {
   "cell_type": "code",
   "execution_count": 7,
   "metadata": {},
   "outputs": [
    {
     "name": "stdout",
     "output_type": "stream",
     "text": [
      "fit complete!\n",
      "accuracy is :  0.9666666666666667\n"
     ]
    }
   ],
   "source": [
    "naiveBayes=naiveBayesModel()\n",
    "naiveBayes.fit(X_train,y_train)\n",
    "naiveBayes.score(X_test,y_test)"
   ]
  }
 ],
 "metadata": {
  "kernelspec": {
   "display_name": "Python 3",
   "language": "python",
   "name": "python3"
  },
  "language_info": {
   "codemirror_mode": {
    "name": "ipython",
    "version": 3
   },
   "file_extension": ".py",
   "mimetype": "text/x-python",
   "name": "python",
   "nbconvert_exporter": "python",
   "pygments_lexer": "ipython3",
   "version": "3.6.7"
  }
 },
 "nbformat": 4,
 "nbformat_minor": 2
}
